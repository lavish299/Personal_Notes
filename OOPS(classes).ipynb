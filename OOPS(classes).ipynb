{
 "nbformat": 4,
 "nbformat_minor": 2,
 "metadata": {
  "language_info": {
   "name": "python",
   "codemirror_mode": {
    "name": "ipython",
    "version": 3
   },
   "version": "3.8.1-final"
  },
  "orig_nbformat": 2,
  "file_extension": ".py",
  "mimetype": "text/x-python",
  "name": "python",
  "npconvert_exporter": "python",
  "pygments_lexer": "ipython3",
  "version": 3,
  "kernelspec": {
   "name": "python38164bit091316b95cbb4626a9c4155af4905bc3",
   "display_name": "Python 3.8.1 64-bit"
  }
 },
 "cells": [
  {
   "cell_type": "markdown",
   "metadata": {},
   "source": [
    "# Classes In Python"
   ]
  },
  {
   "cell_type": "markdown",
   "metadata": {},
   "source": [
    "### 1. Classes\n",
    "### 2. Objects/Instances\n",
    "### 3. Class Methods and Static Methods\n",
    "\n"
   ]
  },
  {
   "cell_type": "code",
   "execution_count": 48,
   "metadata": {},
   "outputs": [],
   "source": [
    "class Employee:\n",
    "    num_of_emps=0\n",
    "    \n",
    "    raise_amount=1.04\n",
    "\n",
    "    def __init__(self,first,last,pay): #first argument is a instance\n",
    "        self.first=first\n",
    "        self.last=last\n",
    "        # self.email=email\n",
    "        self.pay=pay\n",
    "        Employee.num_of_emps += 1\n",
    "\n",
    "\n",
    "    def name(self):\n",
    "        return (self.first+\" \"+self.last)\n",
    "    \n",
    "    def email(self):\n",
    "        return (self.first.lower()+\".\"+self.last.lower()+\"@ztartup.com\")\n",
    "\n",
    "    def __repr__(self):\n",
    "        return (\"Name : {0} \\nEmail : {1}\".format(self.name(),self.email()))\n",
    "    \n",
    "    def first_name(self):\n",
    "        return (self.first)\n",
    "\n",
    "    @classmethod\n",
    "    def set_raise_amount(cls,amount): #first argument is a class\n",
    "        cls.raise_amount=amount\n",
    "    \n",
    "    "
   ]
  },
  {
   "cell_type": "code",
   "execution_count": 42,
   "metadata": {},
   "outputs": [],
   "source": [
    "emp_1=Employee(\"Steve\",\"Jobs\",\"0\") #Instance/Object of a class"
   ]
  },
  {
   "cell_type": "code",
   "execution_count": 43,
   "metadata": {},
   "outputs": [
    {
     "output_type": "stream",
     "name": "stdout",
     "text": "Name : Steve Jobs \nEmail : steve.jobs@ztartup.com\n"
    }
   ],
   "source": [
    "print(emp_1)"
   ]
  },
  {
   "cell_type": "code",
   "execution_count": 44,
   "metadata": {},
   "outputs": [
    {
     "output_type": "stream",
     "name": "stdout",
     "text": "Steve\nSteve\n"
    }
   ],
   "source": [
    "print(Employee.first_name(emp_1)) \n",
    "print(emp_1.first_name())"
   ]
  },
  {
   "cell_type": "code",
   "execution_count": 45,
   "metadata": {},
   "outputs": [
    {
     "output_type": "stream",
     "name": "stdout",
     "text": "Lavish\n"
    }
   ],
   "source": [
    "emp_1.first=\"Lavish\"\n",
    "print(emp_1.first)"
   ]
  },
  {
   "cell_type": "code",
   "execution_count": 46,
   "metadata": {},
   "outputs": [
    {
     "output_type": "stream",
     "name": "stdout",
     "text": "Lavish\n"
    }
   ],
   "source": [
    "print(emp_1.first_name())"
   ]
  },
  {
   "cell_type": "code",
   "execution_count": 53,
   "metadata": {},
   "outputs": [
    {
     "output_type": "stream",
     "name": "stdout",
     "text": "dict_keys(['__module__', 'raise_amount', '__init__', 'name', 'email', '__repr__', 'first_name', '__dict__', '__weakref__', '__doc__'])\n{'first': 'Lavish', 'last': 'Jobs', 'pay': '0'}\n"
    }
   ],
   "source": [
    "print(Employee.__dict__.keys())\n",
    "print(emp_1.__dict__)"
   ]
  },
  {
   "cell_type": "code",
   "execution_count": 54,
   "metadata": {},
   "outputs": [],
   "source": [
    "emp_1.raise_amount=1.05"
   ]
  },
  {
   "cell_type": "code",
   "execution_count": 56,
   "metadata": {},
   "outputs": [
    {
     "output_type": "stream",
     "name": "stdout",
     "text": "{'first': 'Lavish', 'last': 'Jobs', 'pay': '0', 'raise_amount': 1.05}\n"
    }
   ],
   "source": [
    "print(emp_1.__dict__)"
   ]
  },
  {
   "cell_type": "code",
   "execution_count": null,
   "metadata": {},
   "outputs": [],
   "source": []
  }
 ]
}