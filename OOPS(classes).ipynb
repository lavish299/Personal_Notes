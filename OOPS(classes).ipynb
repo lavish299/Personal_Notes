{
 "nbformat": 4,
 "nbformat_minor": 2,
 "metadata": {
  "language_info": {
   "name": "python",
   "codemirror_mode": {
    "name": "ipython",
    "version": 3
   },
   "version": "3.7.4-final"
  },
  "orig_nbformat": 2,
  "file_extension": ".py",
  "mimetype": "text/x-python",
  "name": "python",
  "npconvert_exporter": "python",
  "pygments_lexer": "ipython3",
  "version": 3,
  "kernelspec": {
   "name": "python38164bit091316b95cbb4626a9c4155af4905bc3",
   "display_name": "Python 3.8.1 64-bit"
  }
 },
 "cells": [
  {
   "cell_type": "markdown",
   "metadata": {},
   "source": [
    "# Classes In Python"
   ]
  },
  {
   "cell_type": "markdown",
   "metadata": {},
   "source": [
    "#### 1. Classes\n",
    "#### 2. Objects/Instances\n",
    "#### 3. Class Methods and Static Methods\n",
    "#### 4. Inheritance\n",
    "\n",
    "\n"
   ]
  },
  {
   "cell_type": "code",
   "execution_count": 2,
   "metadata": {},
   "outputs": [],
   "source": [
    "class Employee:\n",
    "    num_of_emps=0\n",
    "    \n",
    "    raise_amount=1.04\n",
    "\n",
    "    def __init__(self,first,last,pay): #first argument is a instance\n",
    "        self.first=first\n",
    "        self.last=last\n",
    "        # self.email=email\n",
    "        self.pay=float(pay)\n",
    "        Employee.num_of_emps += 1\n",
    "\n",
    "\n",
    "    def name(self):\n",
    "        return (self.first+\" \"+self.last)\n",
    "    \n",
    "    def email(self):\n",
    "        return (self.first.lower()+\".\"+self.last.lower()+\"@ztartup.com\")\n",
    "\n",
    "    def __repr__(self):\n",
    "        return (\"Name : {0} \\nEmail : {1}\".format(self.name(),self.email()))\n",
    "    \n",
    "    def first_name(self):\n",
    "        return (self.first)\n",
    "\n",
    "    @classmethod\n",
    "    def set_raise_amount(cls,amount): #first argument is a class\n",
    "        cls.raise_amount=amount\n",
    "\n",
    "    @classmethod\n",
    "    def from_string(cls,string):\n",
    "        # print(string.split('-'))\n",
    "        return  cls(*string.split('-'))\n",
    "\n",
    "    @staticmethod\n",
    "    def working_day(day):\n",
    "        if day.weekday() == 5 or day.weekday() == 6:\n",
    "            return False\n",
    "        return True\n",
    "    "
   ]
  },
  {
   "cell_type": "code",
   "execution_count": 42,
   "metadata": {},
   "outputs": [],
   "source": [
    "emp_1=Employee(\"Steve\",\"Jobs\",\"0\") #Instance/Object of a class"
   ]
  },
  {
   "cell_type": "code",
   "execution_count": 43,
   "metadata": {},
   "outputs": [
    {
     "output_type": "stream",
     "name": "stdout",
     "text": "Name : Steve Jobs \nEmail : steve.jobs@ztartup.com\n"
    }
   ],
   "source": [
    "print(emp_1)"
   ]
  },
  {
   "cell_type": "code",
   "execution_count": 44,
   "metadata": {},
   "outputs": [
    {
     "output_type": "stream",
     "name": "stdout",
     "text": "Steve\nSteve\n"
    }
   ],
   "source": [
    "print(Employee.first_name(emp_1)) \n",
    "print(emp_1.first_name())"
   ]
  },
  {
   "cell_type": "code",
   "execution_count": 46,
   "metadata": {},
   "outputs": [
    {
     "output_type": "stream",
     "name": "stdout",
     "text": "Lavish\n"
    }
   ],
   "source": [
    "print(emp_1.first_name())"
   ]
  },
  {
   "cell_type": "code",
   "execution_count": 53,
   "metadata": {},
   "outputs": [
    {
     "output_type": "stream",
     "name": "stdout",
     "text": "dict_keys(['__module__', 'raise_amount', '__init__', 'name', 'email', '__repr__', 'first_name', '__dict__', '__weakref__', '__doc__'])\n{'first': 'Lavish', 'last': 'Jobs', 'pay': '0'}\n"
    }
   ],
   "source": [
    "print(Employee.__dict__.keys())\n",
    "print(emp_1.__dict__)"
   ]
  },
  {
   "cell_type": "code",
   "execution_count": 54,
   "metadata": {},
   "outputs": [],
   "source": [
    "emp_1.raise_amount=1.05"
   ]
  },
  {
   "cell_type": "code",
   "execution_count": 56,
   "metadata": {},
   "outputs": [
    {
     "output_type": "stream",
     "name": "stdout",
     "text": "{'first': 'Lavish', 'last': 'Jobs', 'pay': '0', 'raise_amount': 1.05}\n"
    }
   ],
   "source": [
    "print(emp_1.__dict__)"
   ]
  },
  {
   "cell_type": "code",
   "execution_count": 76,
   "metadata": {},
   "outputs": [],
   "source": [
    "emp_3=\"Bill-Gates-0\"\n",
    "emp_3=Employee.from_string(emp_3)"
   ]
  },
  {
   "cell_type": "code",
   "execution_count": 77,
   "metadata": {},
   "outputs": [
    {
     "output_type": "execute_result",
     "data": {
      "text/plain": "0.0"
     },
     "metadata": {},
     "execution_count": 77
    }
   ],
   "source": [
    "emp_3.pay"
   ]
  },
  {
   "cell_type": "markdown",
   "metadata": {},
   "source": [
    "### Inheritance"
   ]
  },
  {
   "cell_type": "code",
   "execution_count": 7,
   "metadata": {},
   "outputs": [],
   "source": [
    "class Developer(Employee):\n",
    "    raise_amount=1.20\n",
    "\n",
    "    def __init__(self, first, last, pay,employees=None):\n",
    "        super().__init__(first, last, pay)\n",
    "\n",
    "        if employees==None:\n",
    "            self.employees=[]\n",
    "        else:\n",
    "            self.employees=employees\n",
    "\n",
    "    def add_emp(self,emp):\n",
    "        if emp not in self.employees:\n",
    "            self.employees.append(emp)\n",
    "\n",
    "    def remove_emp(self,emp):\n",
    "        if emp in self.employees:\n",
    "            self.employees.remove(emp)\n",
    "    \n",
    "    def print_emps(self):\n",
    "        for emp in self.employees:\n",
    "            print(\"--> \",emp.name())\n",
    ""
   ]
  },
  {
   "cell_type": "markdown",
   "metadata": {},
   "source": [
    "### Special And Dunder Methods\n",
    "<h4> 1. __repr__ and __str__ <br>\n",
    "2. __add__ <br>\n",
    "3. __len__\n"
   ]
  },
  {
   "cell_type": "markdown",
   "metadata": {},
   "source": [
    "# Property Decorators "
   ]
  },
  {
   "cell_type": "markdown",
   "metadata": {},
   "source": [
    "#### @property ##to change a function to object like attribute\n",
    "#### defining as a method but acsessing like an attribute\n",
    "#### @function.setter\n",
    "#### @function.deleter\n"
   ]
  },
  {
   "cell_type": "code",
   "execution_count": null,
   "metadata": {},
   "outputs": [],
   "source": []
  }
 ]
}