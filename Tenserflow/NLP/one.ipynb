{
 "nbformat": 4,
 "nbformat_minor": 2,
 "metadata": {
  "language_info": {
   "name": "python",
   "codemirror_mode": {
    "name": "ipython",
    "version": 3
   },
   "version": "3.8.1-final"
  },
  "orig_nbformat": 2,
  "file_extension": ".py",
  "mimetype": "text/x-python",
  "name": "python",
  "npconvert_exporter": "python",
  "pygments_lexer": "ipython3",
  "version": 3,
  "kernelspec": {
   "name": "python38164bit091316b95cbb4626a9c4155af4905bc3",
   "display_name": "Python 3.8.1 64-bit"
  }
 },
 "cells": [
  {
   "cell_type": "markdown",
   "metadata": {},
   "source": [
    "# Sentiment in Text\n",
    "## 1.Word Based Encoding"
   ]
  },
  {
   "cell_type": "code",
   "execution_count": 6,
   "metadata": {},
   "outputs": [],
   "source": [
    "import tensorflow as tf"
   ]
  },
  {
   "cell_type": "code",
   "execution_count": 23,
   "metadata": {},
   "outputs": [],
   "source": [
    "from tensorflow import keras\n",
    "from tensorflow.keras.preprocessing.text import Tokenizer\n",
    "from tensorflow.keras.preprocessing.sequence import pad_sequences\n",
    ""
   ]
  },
  {
   "cell_type": "code",
   "execution_count": 17,
   "metadata": {},
   "outputs": [],
   "source": [
    "sentences=[\n",
    "    'I love my dog',\n",
    "    'I love my cat',\n",
    "    'You love my dog!',\n",
    "]\n",
    "\n",
    "sentences1=[\n",
    "    'I love my dog',\n",
    "    'I love my cat',\n",
    "    'You love my dog!',\n",
    "    'DO you think my dog is amazing?'\n",
    "]"
   ]
  },
  {
   "cell_type": "code",
   "execution_count": 18,
   "metadata": {},
   "outputs": [
    {
     "output_type": "stream",
     "name": "stdout",
     "text": "{'love': 1, 'my': 2, 'i': 3, 'dog': 4, 'cat': 5, 'you': 6}\n[[3, 1, 2, 4], [3, 1, 2, 5], [6, 1, 2, 4]]\n"
    }
   ],
   "source": [
    "tokenizer=Tokenizer(num_words=100) #no. of top frequency to be selected\n",
    "tokenizer.fit_on_texts(sentences) #sentences = list of sentences\n",
    "word_index=tokenizer.word_index\n",
    "print(word_index)\n",
    "sequences=tokenizer.texts_to_sequences(sentences)\n",
    "print(sequences)\n",
    ""
   ]
  },
  {
   "cell_type": "code",
   "execution_count": 19,
   "metadata": {},
   "outputs": [
    {
     "output_type": "stream",
     "name": "stdout",
     "text": "{'<00V>': 1, 'love': 2, 'my': 3, 'i': 4, 'dog': 5, 'cat': 6, 'you': 7}\n[[4, 2, 3, 5], [4, 2, 3, 6], [7, 2, 3, 5]]\n"
    }
   ],
   "source": [
    "tokenizer=Tokenizer(num_words=100, oov_token='<00V>') # num_words is used for no. of top frequency to be selected\n",
    "# oov_tokes is used for the words not present in Tokensier\n",
    "tokenizer.fit_on_texts(sentences) #sentences = list of sentences\n",
    "word_index=tokenizer.word_index\n",
    "sequences=tokenizer.texts_to_sequences(sentences)\n",
    "print(word_index)\n",
    "print(sequences)"
   ]
  },
  {
   "cell_type": "code",
   "execution_count": 32,
   "metadata": {},
   "outputs": [
    {
     "output_type": "stream",
     "name": "stdout",
     "text": "[[4, 2, 3, 5], [4, 2, 3, 6], [7, 2, 3, 5], [1, 7, 1, 3, 5, 1, 1]]\n[[0 0 0 4 2 3 5]\n [0 0 0 4 2 3 6]\n [0 0 0 7 2 3 5]\n [1 7 1 3 5 1 1]]\n[[4 2 3 5 0 0 0]\n [4 2 3 6 0 0 0]\n [7 2 3 5 0 0 0]\n [1 7 1 3 5 1 1]]\n[[4 2 3 5 0 0]\n [4 2 3 6 0 0]\n [7 2 3 5 0 0]\n [1 7 1 3 5 1]]\n"
    }
   ],
   "source": [
    "sequences=tokenizer.texts_to_sequences(sentences1)\n",
    "print(sequences)\n",
    "padded=pad_sequences(sequences)\n",
    "print(padded)\n",
    "padded1=pad_sequences(sequences,padding='post')\n",
    "print(padded1)\n",
    "padded2=pad_sequences(sequences,padding='post',maxlen=6,truncating='post')\n",
    "print(padded2)"
   ]
  },
  {
   "cell_type": "code",
   "execution_count": null,
   "metadata": {},
   "outputs": [],
   "source": []
  }
 ]
}