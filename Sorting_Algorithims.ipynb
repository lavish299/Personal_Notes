{
  "nbformat": 4,
  "nbformat_minor": 0,
  "metadata": {
    "colab": {
      "name": "Sorting_Algorithims",
      "provenance": [],
      "authorship_tag": "ABX9TyPFVSDuY0iFnm6bW7ysoNbs",
      "include_colab_link": true
    },
    "kernelspec": {
      "name": "python3",
      "display_name": "Python 3"
    }
  },
  "cells": [
    {
      "cell_type": "markdown",
      "metadata": {
        "id": "view-in-github",
        "colab_type": "text"
      },
      "source": [
        "<a href=\"https://colab.research.google.com/github/lavish299/Personal_Notes/blob/master/Sorting_Algorithims.ipynb\" target=\"_parent\"><img src=\"https://colab.research.google.com/assets/colab-badge.svg\" alt=\"Open In Colab\"/></a>"
      ]
    },
    {
      "cell_type": "markdown",
      "metadata": {
        "id": "TKAMS0jekpkU",
        "colab_type": "text"
      },
      "source": [
        "Bubble Sort"
      ]
    },
    {
      "cell_type": "code",
      "metadata": {
        "id": "SZ3Zk7jVklCl",
        "colab_type": "code",
        "colab": {}
      },
      "source": [
        "def bubble_sort(arr):\n",
        "  for n in range(len(arr)-1,0,-1):\n",
        "    for k in range(n):\n",
        "      if arr[k]>arr[k+1]:\n",
        "        arr[k],arr[k+1]=arr[k+1],arr[k]"
      ],
      "execution_count": 3,
      "outputs": []
    },
    {
      "cell_type": "code",
      "metadata": {
        "id": "obPTA3ZJkwOk",
        "colab_type": "code",
        "colab": {}
      },
      "source": [
        "arr=[2,4,36,54,3,2,90]\n",
        "bubble_sort(arr)\n",
        "arr\n"
      ],
      "execution_count": 6,
      "outputs": []
    },
    {
      "cell_type": "markdown",
      "metadata": {
        "id": "gV_Vj8ARlc8x",
        "colab_type": "text"
      },
      "source": [
        "Selection Sort"
      ]
    },
    {
      "cell_type": "code",
      "metadata": {
        "id": "_fnobykblG0r",
        "colab_type": "code",
        "colab": {}
      },
      "source": [
        "def selection_sort(arr):\n",
        "  for i in range(len(arr)-1,0,-1):\n",
        "    # print(i)\n",
        "    pol=0\n",
        "    for j in range(i+1):\n",
        "      if arr[j]>arr[pol]:\n",
        "        pol=j\n",
        "    print(arr[pol])\n",
        "    arr[pol],arr[i]=arr[i],arr[pol]\n",
        "    "
      ],
      "execution_count": 24,
      "outputs": []
    },
    {
      "cell_type": "code",
      "metadata": {
        "id": "zJ3YemwxleTQ",
        "colab_type": "code",
        "colab": {
          "base_uri": "https://localhost:8080/",
          "height": 122
        },
        "outputId": "bde5d3cd-5cc7-499a-92a4-5156fd928960"
      },
      "source": [
        "arr=[2,4,36,54,3,90]\n",
        "selection_sort(arr)\n",
        "arr\n"
      ],
      "execution_count": 25,
      "outputs": [
        {
          "output_type": "stream",
          "text": [
            "90\n",
            "54\n",
            "36\n",
            "4\n",
            "3\n"
          ],
          "name": "stdout"
        },
        {
          "output_type": "execute_result",
          "data": {
            "text/plain": [
              "[2, 3, 4, 36, 54, 90]"
            ]
          },
          "metadata": {
            "tags": []
          },
          "execution_count": 25
        }
      ]
    },
    {
      "cell_type": "code",
      "metadata": {
        "id": "26B8pRojtF7y",
        "colab_type": "code",
        "colab": {}
      },
      "source": [
        ""
      ],
      "execution_count": 13,
      "outputs": []
    }
  ]
}