{
 "nbformat": 4,
 "nbformat_minor": 2,
 "metadata": {
  "language_info": {
   "name": "python",
   "codemirror_mode": {
    "name": "ipython",
    "version": 3
   },
   "version": "3.7.4-final"
  },
  "orig_nbformat": 2,
  "file_extension": ".py",
  "mimetype": "text/x-python",
  "name": "python",
  "npconvert_exporter": "python",
  "pygments_lexer": "ipython3",
  "version": 3,
  "kernelspec": {
   "name": "python37464bitbaseconda844548050a1f4274a8735e4d43f1c96e",
   "display_name": "Python 3.7.4 64-bit ('base': conda)"
  }
 },
 "cells": [
  {
   "cell_type": "markdown",
   "metadata": {},
   "source": [
    "# Dataframes"
   ]
  },
  {
   "cell_type": "code",
   "execution_count": 3,
   "metadata": {},
   "outputs": [],
   "source": [
    "import numpy as np\n",
    "import pandas as pd"
   ]
  },
  {
   "cell_type": "code",
   "execution_count": 4,
   "metadata": {},
   "outputs": [],
   "source": [
    "from numpy.random import rand"
   ]
  },
  {
   "cell_type": "code",
   "execution_count": 5,
   "metadata": {},
   "outputs": [],
   "source": [
    "np.random.seed(101)"
   ]
  },
  {
   "cell_type": "code",
   "execution_count": 16,
   "metadata": {},
   "outputs": [],
   "source": [
    "df=pd.DataFrame(rand(5,4),index='A,B,C,D,E'.split(','),columns=\"a b c d\".split(\" \"))"
   ]
  },
  {
   "cell_type": "code",
   "execution_count": 17,
   "metadata": {},
   "outputs": [
    {
     "output_type": "execute_result",
     "data": {
      "text/plain": "          a         b         c         d\nA  0.625773  0.100850  0.710853  0.881330\nB  0.695290  0.266173  0.909964  0.579618\nC  0.359687  0.852634  0.246179  0.780444\nD  0.045510  0.885041  0.276421  0.580924\nE  0.910662  0.992591  0.062224  0.928481",
      "text/html": "<div>\n<style scoped>\n    .dataframe tbody tr th:only-of-type {\n        vertical-align: middle;\n    }\n\n    .dataframe tbody tr th {\n        vertical-align: top;\n    }\n\n    .dataframe thead th {\n        text-align: right;\n    }\n</style>\n<table border=\"1\" class=\"dataframe\">\n  <thead>\n    <tr style=\"text-align: right;\">\n      <th></th>\n      <th>a</th>\n      <th>b</th>\n      <th>c</th>\n      <th>d</th>\n    </tr>\n  </thead>\n  <tbody>\n    <tr>\n      <td>A</td>\n      <td>0.625773</td>\n      <td>0.100850</td>\n      <td>0.710853</td>\n      <td>0.881330</td>\n    </tr>\n    <tr>\n      <td>B</td>\n      <td>0.695290</td>\n      <td>0.266173</td>\n      <td>0.909964</td>\n      <td>0.579618</td>\n    </tr>\n    <tr>\n      <td>C</td>\n      <td>0.359687</td>\n      <td>0.852634</td>\n      <td>0.246179</td>\n      <td>0.780444</td>\n    </tr>\n    <tr>\n      <td>D</td>\n      <td>0.045510</td>\n      <td>0.885041</td>\n      <td>0.276421</td>\n      <td>0.580924</td>\n    </tr>\n    <tr>\n      <td>E</td>\n      <td>0.910662</td>\n      <td>0.992591</td>\n      <td>0.062224</td>\n      <td>0.928481</td>\n    </tr>\n  </tbody>\n</table>\n</div>"
     },
     "metadata": {},
     "execution_count": 17
    }
   ],
   "source": [
    "df"
   ]
  },
  {
   "cell_type": "markdown",
   "metadata": {},
   "source": [
    "## Selection and Indexing"
   ]
  },
  {
   "cell_type": "code",
   "execution_count": 18,
   "metadata": {},
   "outputs": [
    {
     "output_type": "execute_result",
     "data": {
      "text/plain": "A    0.625773\nB    0.695290\nC    0.359687\nD    0.045510\nE    0.910662\nName: a, dtype: float64"
     },
     "metadata": {},
     "execution_count": 18
    }
   ],
   "source": [
    "df['a']"
   ]
  },
  {
   "cell_type": "code",
   "execution_count": 27,
   "metadata": {},
   "outputs": [
    {
     "output_type": "stream",
     "name": "stdout",
     "text": "a    0.625773\nb    0.100850\nc    0.710853\nd    0.881330\nName: A, dtype: float64\na    0.625773\nb    0.100850\nc    0.710853\nd    0.881330\nName: A, dtype: float64\n"
    }
   ],
   "source": [
    "print(df.loc['A'])\n",
    "# or    \n",
    "print(df.iloc[0])\n"
   ]
  },
  {
   "cell_type": "code",
   "execution_count": 28,
   "metadata": {},
   "outputs": [],
   "source": [
    "df['new']=df['a']+df['b']"
   ]
  },
  {
   "cell_type": "code",
   "execution_count": 29,
   "metadata": {},
   "outputs": [
    {
     "output_type": "execute_result",
     "data": {
      "text/plain": "          a         b         c         d       new\nA  0.625773  0.100850  0.710853  0.881330  0.726623\nB  0.695290  0.266173  0.909964  0.579618  0.961463\nC  0.359687  0.852634  0.246179  0.780444  1.212321\nD  0.045510  0.885041  0.276421  0.580924  0.930551\nE  0.910662  0.992591  0.062224  0.928481  1.903253",
      "text/html": "<div>\n<style scoped>\n    .dataframe tbody tr th:only-of-type {\n        vertical-align: middle;\n    }\n\n    .dataframe tbody tr th {\n        vertical-align: top;\n    }\n\n    .dataframe thead th {\n        text-align: right;\n    }\n</style>\n<table border=\"1\" class=\"dataframe\">\n  <thead>\n    <tr style=\"text-align: right;\">\n      <th></th>\n      <th>a</th>\n      <th>b</th>\n      <th>c</th>\n      <th>d</th>\n      <th>new</th>\n    </tr>\n  </thead>\n  <tbody>\n    <tr>\n      <td>A</td>\n      <td>0.625773</td>\n      <td>0.100850</td>\n      <td>0.710853</td>\n      <td>0.881330</td>\n      <td>0.726623</td>\n    </tr>\n    <tr>\n      <td>B</td>\n      <td>0.695290</td>\n      <td>0.266173</td>\n      <td>0.909964</td>\n      <td>0.579618</td>\n      <td>0.961463</td>\n    </tr>\n    <tr>\n      <td>C</td>\n      <td>0.359687</td>\n      <td>0.852634</td>\n      <td>0.246179</td>\n      <td>0.780444</td>\n      <td>1.212321</td>\n    </tr>\n    <tr>\n      <td>D</td>\n      <td>0.045510</td>\n      <td>0.885041</td>\n      <td>0.276421</td>\n      <td>0.580924</td>\n      <td>0.930551</td>\n    </tr>\n    <tr>\n      <td>E</td>\n      <td>0.910662</td>\n      <td>0.992591</td>\n      <td>0.062224</td>\n      <td>0.928481</td>\n      <td>1.903253</td>\n    </tr>\n  </tbody>\n</table>\n</div>"
     },
     "metadata": {},
     "execution_count": 29
    }
   ],
   "source": [
    "df"
   ]
  },
  {
   "cell_type": "code",
   "execution_count": 38,
   "metadata": {},
   "outputs": [],
   "source": [
    "df.drop('new',axis=1,inplace=True)"
   ]
  },
  {
   "cell_type": "code",
   "execution_count": 39,
   "metadata": {},
   "outputs": [
    {
     "output_type": "execute_result",
     "data": {
      "text/plain": "          a         b         c         d\nA  0.625773  0.100850  0.710853  0.881330\nB  0.695290  0.266173  0.909964  0.579618\nC  0.359687  0.852634  0.246179  0.780444\nD  0.045510  0.885041  0.276421  0.580924\nE  0.910662  0.992591  0.062224  0.928481",
      "text/html": "<div>\n<style scoped>\n    .dataframe tbody tr th:only-of-type {\n        vertical-align: middle;\n    }\n\n    .dataframe tbody tr th {\n        vertical-align: top;\n    }\n\n    .dataframe thead th {\n        text-align: right;\n    }\n</style>\n<table border=\"1\" class=\"dataframe\">\n  <thead>\n    <tr style=\"text-align: right;\">\n      <th></th>\n      <th>a</th>\n      <th>b</th>\n      <th>c</th>\n      <th>d</th>\n    </tr>\n  </thead>\n  <tbody>\n    <tr>\n      <td>A</td>\n      <td>0.625773</td>\n      <td>0.100850</td>\n      <td>0.710853</td>\n      <td>0.881330</td>\n    </tr>\n    <tr>\n      <td>B</td>\n      <td>0.695290</td>\n      <td>0.266173</td>\n      <td>0.909964</td>\n      <td>0.579618</td>\n    </tr>\n    <tr>\n      <td>C</td>\n      <td>0.359687</td>\n      <td>0.852634</td>\n      <td>0.246179</td>\n      <td>0.780444</td>\n    </tr>\n    <tr>\n      <td>D</td>\n      <td>0.045510</td>\n      <td>0.885041</td>\n      <td>0.276421</td>\n      <td>0.580924</td>\n    </tr>\n    <tr>\n      <td>E</td>\n      <td>0.910662</td>\n      <td>0.992591</td>\n      <td>0.062224</td>\n      <td>0.928481</td>\n    </tr>\n  </tbody>\n</table>\n</div>"
     },
     "metadata": {},
     "execution_count": 39
    }
   ],
   "source": [
    "df"
   ]
  },
  {
   "cell_type": "markdown",
   "metadata": {},
   "source": [
    "# Multi Index and Index Hierarchy   "
   ]
  },
  {
   "cell_type": "code",
   "execution_count": 42,
   "metadata": {},
   "outputs": [
    {
     "output_type": "stream",
     "name": "stdout",
     "text": "[('G1', 1), ('G1', 2), ('G1', 3), ('G2', 1), ('G2', 2), ('G2', 3)]\nMultiIndex([('G1', 1),\n            ('G1', 2),\n            ('G1', 3),\n            ('G2', 1),\n            ('G2', 2),\n            ('G2', 3)],\n           )\n"
    }
   ],
   "source": [
    "outside = ['G1','G1','G1','G2','G2','G2']\n",
    "inside = [1,2,3,1,2,3]\n",
    "hier_index = list(zip(outside,inside))\n",
    "print(hier_index)\n",
    "hier_index = pd.MultiIndex.from_tuples(hier_index)\n",
    "print(hier_index)"
   ]
  },
  {
   "cell_type": "code",
   "execution_count": 45,
   "metadata": {},
   "outputs": [],
   "source": [
    "df=pd.DataFrame(rand(6,5),index=hier_index)"
   ]
  },
  {
   "cell_type": "code",
   "execution_count": 56,
   "metadata": {},
   "outputs": [
    {
     "output_type": "execute_result",
     "data": {
      "text/plain": "                  0         1         2         3         4\nGroup Num                                                  \nG1    1    0.603498  0.454420  0.313479  0.380982  0.642812\n      2    0.806533  0.130528  0.730565  0.005438  0.650661\n      3    0.453049  0.200645  0.631129  0.017791  0.838551\nG2    1    0.525546  0.370938  0.425750  0.265095  0.446408\n      2    0.982653  0.752054  0.520926  0.462383  0.067457\n      3    0.622840  0.719619  0.450736  0.684777  0.732571",
      "text/html": "<div>\n<style scoped>\n    .dataframe tbody tr th:only-of-type {\n        vertical-align: middle;\n    }\n\n    .dataframe tbody tr th {\n        vertical-align: top;\n    }\n\n    .dataframe thead th {\n        text-align: right;\n    }\n</style>\n<table border=\"1\" class=\"dataframe\">\n  <thead>\n    <tr style=\"text-align: right;\">\n      <th></th>\n      <th></th>\n      <th>0</th>\n      <th>1</th>\n      <th>2</th>\n      <th>3</th>\n      <th>4</th>\n    </tr>\n    <tr>\n      <th>Group</th>\n      <th>Num</th>\n      <th></th>\n      <th></th>\n      <th></th>\n      <th></th>\n      <th></th>\n    </tr>\n  </thead>\n  <tbody>\n    <tr>\n      <td rowspan=\"3\" valign=\"top\">G1</td>\n      <td>1</td>\n      <td>0.603498</td>\n      <td>0.454420</td>\n      <td>0.313479</td>\n      <td>0.380982</td>\n      <td>0.642812</td>\n    </tr>\n    <tr>\n      <td>2</td>\n      <td>0.806533</td>\n      <td>0.130528</td>\n      <td>0.730565</td>\n      <td>0.005438</td>\n      <td>0.650661</td>\n    </tr>\n    <tr>\n      <td>3</td>\n      <td>0.453049</td>\n      <td>0.200645</td>\n      <td>0.631129</td>\n      <td>0.017791</td>\n      <td>0.838551</td>\n    </tr>\n    <tr>\n      <td rowspan=\"3\" valign=\"top\">G2</td>\n      <td>1</td>\n      <td>0.525546</td>\n      <td>0.370938</td>\n      <td>0.425750</td>\n      <td>0.265095</td>\n      <td>0.446408</td>\n    </tr>\n    <tr>\n      <td>2</td>\n      <td>0.982653</td>\n      <td>0.752054</td>\n      <td>0.520926</td>\n      <td>0.462383</td>\n      <td>0.067457</td>\n    </tr>\n    <tr>\n      <td>3</td>\n      <td>0.622840</td>\n      <td>0.719619</td>\n      <td>0.450736</td>\n      <td>0.684777</td>\n      <td>0.732571</td>\n    </tr>\n  </tbody>\n</table>\n</div>"
     },
     "metadata": {},
     "execution_count": 56
    }
   ],
   "source": [
    "df"
   ]
  },
  {
   "cell_type": "code",
   "execution_count": 52,
   "metadata": {},
   "outputs": [
    {
     "output_type": "execute_result",
     "data": {
      "text/plain": "          0         1         2         3         4\n1  0.603498  0.454420  0.313479  0.380982  0.642812\n2  0.806533  0.130528  0.730565  0.005438  0.650661\n3  0.453049  0.200645  0.631129  0.017791  0.838551",
      "text/html": "<div>\n<style scoped>\n    .dataframe tbody tr th:only-of-type {\n        vertical-align: middle;\n    }\n\n    .dataframe tbody tr th {\n        vertical-align: top;\n    }\n\n    .dataframe thead th {\n        text-align: right;\n    }\n</style>\n<table border=\"1\" class=\"dataframe\">\n  <thead>\n    <tr style=\"text-align: right;\">\n      <th></th>\n      <th>0</th>\n      <th>1</th>\n      <th>2</th>\n      <th>3</th>\n      <th>4</th>\n    </tr>\n  </thead>\n  <tbody>\n    <tr>\n      <td>1</td>\n      <td>0.603498</td>\n      <td>0.454420</td>\n      <td>0.313479</td>\n      <td>0.380982</td>\n      <td>0.642812</td>\n    </tr>\n    <tr>\n      <td>2</td>\n      <td>0.806533</td>\n      <td>0.130528</td>\n      <td>0.730565</td>\n      <td>0.005438</td>\n      <td>0.650661</td>\n    </tr>\n    <tr>\n      <td>3</td>\n      <td>0.453049</td>\n      <td>0.200645</td>\n      <td>0.631129</td>\n      <td>0.017791</td>\n      <td>0.838551</td>\n    </tr>\n  </tbody>\n</table>\n</div>"
     },
     "metadata": {},
     "execution_count": 52
    }
   ],
   "source": [
    "df.loc['G1']"
   ]
  },
  {
   "cell_type": "code",
   "execution_count": 55,
   "metadata": {},
   "outputs": [],
   "source": [
    "df.index.names=['Group','Num']"
   ]
  },
  {
   "cell_type": "code",
   "execution_count": 58,
   "metadata": {},
   "outputs": [
    {
     "output_type": "execute_result",
     "data": {
      "text/plain": "            0         1         2         3         4\nNum                                                  \n1    0.603498  0.454420  0.313479  0.380982  0.642812\n2    0.806533  0.130528  0.730565  0.005438  0.650661\n3    0.453049  0.200645  0.631129  0.017791  0.838551",
      "text/html": "<div>\n<style scoped>\n    .dataframe tbody tr th:only-of-type {\n        vertical-align: middle;\n    }\n\n    .dataframe tbody tr th {\n        vertical-align: top;\n    }\n\n    .dataframe thead th {\n        text-align: right;\n    }\n</style>\n<table border=\"1\" class=\"dataframe\">\n  <thead>\n    <tr style=\"text-align: right;\">\n      <th></th>\n      <th>0</th>\n      <th>1</th>\n      <th>2</th>\n      <th>3</th>\n      <th>4</th>\n    </tr>\n    <tr>\n      <th>Num</th>\n      <th></th>\n      <th></th>\n      <th></th>\n      <th></th>\n      <th></th>\n    </tr>\n  </thead>\n  <tbody>\n    <tr>\n      <td>1</td>\n      <td>0.603498</td>\n      <td>0.454420</td>\n      <td>0.313479</td>\n      <td>0.380982</td>\n      <td>0.642812</td>\n    </tr>\n    <tr>\n      <td>2</td>\n      <td>0.806533</td>\n      <td>0.130528</td>\n      <td>0.730565</td>\n      <td>0.005438</td>\n      <td>0.650661</td>\n    </tr>\n    <tr>\n      <td>3</td>\n      <td>0.453049</td>\n      <td>0.200645</td>\n      <td>0.631129</td>\n      <td>0.017791</td>\n      <td>0.838551</td>\n    </tr>\n  </tbody>\n</table>\n</div>"
     },
     "metadata": {},
     "execution_count": 58
    }
   ],
   "source": [
    "df.xs(\"G1\")"
   ]
  },
  {
   "cell_type": "code",
   "execution_count": 59,
   "metadata": {},
   "outputs": [
    {
     "output_type": "execute_result",
     "data": {
      "text/plain": "0    0.603498\n1    0.454420\n2    0.313479\n3    0.380982\n4    0.642812\nName: (G1, 1), dtype: float64"
     },
     "metadata": {},
     "execution_count": 59
    }
   ],
   "source": [
    "df.xs([\"G1\",1])"
   ]
  },
  {
   "cell_type": "markdown",
   "metadata": {},
   "source": [
    "# Handling Missing Values"
   ]
  },
  {
   "cell_type": "code",
   "execution_count": 65,
   "metadata": {},
   "outputs": [],
   "source": [
    "df=pd.DataFrame({'A':[1,2,3],\n",
    "'B':[2,np.nan,3],\n",
    "'C':[1,np.nan,np.nan]\n",
    "}\n",
    ")"
   ]
  },
  {
   "cell_type": "code",
   "execution_count": 66,
   "metadata": {},
   "outputs": [
    {
     "output_type": "execute_result",
     "data": {
      "text/plain": "   A    B    C\n0  1  2.0  1.0\n1  2  NaN  NaN\n2  3  3.0  NaN",
      "text/html": "<div>\n<style scoped>\n    .dataframe tbody tr th:only-of-type {\n        vertical-align: middle;\n    }\n\n    .dataframe tbody tr th {\n        vertical-align: top;\n    }\n\n    .dataframe thead th {\n        text-align: right;\n    }\n</style>\n<table border=\"1\" class=\"dataframe\">\n  <thead>\n    <tr style=\"text-align: right;\">\n      <th></th>\n      <th>A</th>\n      <th>B</th>\n      <th>C</th>\n    </tr>\n  </thead>\n  <tbody>\n    <tr>\n      <td>0</td>\n      <td>1</td>\n      <td>2.0</td>\n      <td>1.0</td>\n    </tr>\n    <tr>\n      <td>1</td>\n      <td>2</td>\n      <td>NaN</td>\n      <td>NaN</td>\n    </tr>\n    <tr>\n      <td>2</td>\n      <td>3</td>\n      <td>3.0</td>\n      <td>NaN</td>\n    </tr>\n  </tbody>\n</table>\n</div>"
     },
     "metadata": {},
     "execution_count": 66
    }
   ],
   "source": [
    "df"
   ]
  },
  {
   "cell_type": "code",
   "execution_count": 68,
   "metadata": {},
   "outputs": [
    {
     "output_type": "execute_result",
     "data": {
      "text/plain": "   A    B    C\n0  1  2.0  1.0",
      "text/html": "<div>\n<style scoped>\n    .dataframe tbody tr th:only-of-type {\n        vertical-align: middle;\n    }\n\n    .dataframe tbody tr th {\n        vertical-align: top;\n    }\n\n    .dataframe thead th {\n        text-align: right;\n    }\n</style>\n<table border=\"1\" class=\"dataframe\">\n  <thead>\n    <tr style=\"text-align: right;\">\n      <th></th>\n      <th>A</th>\n      <th>B</th>\n      <th>C</th>\n    </tr>\n  </thead>\n  <tbody>\n    <tr>\n      <td>0</td>\n      <td>1</td>\n      <td>2.0</td>\n      <td>1.0</td>\n    </tr>\n  </tbody>\n</table>\n</div>"
     },
     "metadata": {},
     "execution_count": 68
    }
   ],
   "source": [
    "df.dropna()"
   ]
  },
  {
   "cell_type": "code",
   "execution_count": 69,
   "metadata": {},
   "outputs": [
    {
     "output_type": "execute_result",
     "data": {
      "text/plain": "   A\n0  1\n1  2\n2  3",
      "text/html": "<div>\n<style scoped>\n    .dataframe tbody tr th:only-of-type {\n        vertical-align: middle;\n    }\n\n    .dataframe tbody tr th {\n        vertical-align: top;\n    }\n\n    .dataframe thead th {\n        text-align: right;\n    }\n</style>\n<table border=\"1\" class=\"dataframe\">\n  <thead>\n    <tr style=\"text-align: right;\">\n      <th></th>\n      <th>A</th>\n    </tr>\n  </thead>\n  <tbody>\n    <tr>\n      <td>0</td>\n      <td>1</td>\n    </tr>\n    <tr>\n      <td>1</td>\n      <td>2</td>\n    </tr>\n    <tr>\n      <td>2</td>\n      <td>3</td>\n    </tr>\n  </tbody>\n</table>\n</div>"
     },
     "metadata": {},
     "execution_count": 69
    }
   ],
   "source": [
    "df.dropna(axis=1)\n",
    ""
   ]
  },
  {
   "cell_type": "code",
   "execution_count": 70,
   "metadata": {},
   "outputs": [
    {
     "output_type": "execute_result",
     "data": {
      "text/plain": "   A    B    C\n0  1  2.0  1.0\n2  3  3.0  NaN",
      "text/html": "<div>\n<style scoped>\n    .dataframe tbody tr th:only-of-type {\n        vertical-align: middle;\n    }\n\n    .dataframe tbody tr th {\n        vertical-align: top;\n    }\n\n    .dataframe thead th {\n        text-align: right;\n    }\n</style>\n<table border=\"1\" class=\"dataframe\">\n  <thead>\n    <tr style=\"text-align: right;\">\n      <th></th>\n      <th>A</th>\n      <th>B</th>\n      <th>C</th>\n    </tr>\n  </thead>\n  <tbody>\n    <tr>\n      <td>0</td>\n      <td>1</td>\n      <td>2.0</td>\n      <td>1.0</td>\n    </tr>\n    <tr>\n      <td>2</td>\n      <td>3</td>\n      <td>3.0</td>\n      <td>NaN</td>\n    </tr>\n  </tbody>\n</table>\n</div>"
     },
     "metadata": {},
     "execution_count": 70
    }
   ],
   "source": [
    "df.dropna(thresh=2)\n",
    ""
   ]
  },
  {
   "cell_type": "code",
   "execution_count": 71,
   "metadata": {},
   "outputs": [
    {
     "output_type": "execute_result",
     "data": {
      "text/plain": "   A       B       C\n0  1       2       1\n1  2  Thresh  Thresh\n2  3       3  Thresh",
      "text/html": "<div>\n<style scoped>\n    .dataframe tbody tr th:only-of-type {\n        vertical-align: middle;\n    }\n\n    .dataframe tbody tr th {\n        vertical-align: top;\n    }\n\n    .dataframe thead th {\n        text-align: right;\n    }\n</style>\n<table border=\"1\" class=\"dataframe\">\n  <thead>\n    <tr style=\"text-align: right;\">\n      <th></th>\n      <th>A</th>\n      <th>B</th>\n      <th>C</th>\n    </tr>\n  </thead>\n  <tbody>\n    <tr>\n      <td>0</td>\n      <td>1</td>\n      <td>2</td>\n      <td>1</td>\n    </tr>\n    <tr>\n      <td>1</td>\n      <td>2</td>\n      <td>Thresh</td>\n      <td>Thresh</td>\n    </tr>\n    <tr>\n      <td>2</td>\n      <td>3</td>\n      <td>3</td>\n      <td>Thresh</td>\n    </tr>\n  </tbody>\n</table>\n</div>"
     },
     "metadata": {},
     "execution_count": 71
    }
   ],
   "source": [
    "df.fillna(value=\"Thresh\")"
   ]
  },
  {
   "cell_type": "markdown",
   "metadata": {},
   "source": [
    "# Groupby"
   ]
  },
  {
   "cell_type": "code",
   "execution_count": null,
   "metadata": {},
   "outputs": [],
   "source": []
  },
  {
   "cell_type": "code",
   "execution_count": null,
   "metadata": {},
   "outputs": [],
   "source": []
  },
  {
   "cell_type": "code",
   "execution_count": null,
   "metadata": {},
   "outputs": [],
   "source": []
  },
  {
   "cell_type": "markdown",
   "metadata": {},
   "source": [
    "# Merging, Joining and Concatenating\n",
    "https://pandas.pydata.org/pandas-docs/stable/user_guide/merging.html"
   ]
  },
  {
   "cell_type": "code",
   "execution_count": 9,
   "metadata": {},
   "outputs": [
    {
     "output_type": "execute_result",
     "data": {
      "text/plain": "    A   B   C   D\n0  A0  B0  C0  D0\n1  A1  B1  C1  D1\n2  A2  B2  C2  D2\n3  A3  B3  C3  D3",
      "text/html": "<div>\n<style scoped>\n    .dataframe tbody tr th:only-of-type {\n        vertical-align: middle;\n    }\n\n    .dataframe tbody tr th {\n        vertical-align: top;\n    }\n\n    .dataframe thead th {\n        text-align: right;\n    }\n</style>\n<table border=\"1\" class=\"dataframe\">\n  <thead>\n    <tr style=\"text-align: right;\">\n      <th></th>\n      <th>A</th>\n      <th>B</th>\n      <th>C</th>\n      <th>D</th>\n    </tr>\n  </thead>\n  <tbody>\n    <tr>\n      <td>0</td>\n      <td>A0</td>\n      <td>B0</td>\n      <td>C0</td>\n      <td>D0</td>\n    </tr>\n    <tr>\n      <td>1</td>\n      <td>A1</td>\n      <td>B1</td>\n      <td>C1</td>\n      <td>D1</td>\n    </tr>\n    <tr>\n      <td>2</td>\n      <td>A2</td>\n      <td>B2</td>\n      <td>C2</td>\n      <td>D2</td>\n    </tr>\n    <tr>\n      <td>3</td>\n      <td>A3</td>\n      <td>B3</td>\n      <td>C3</td>\n      <td>D3</td>\n    </tr>\n  </tbody>\n</table>\n</div>"
     },
     "metadata": {},
     "execution_count": 9
    }
   ],
   "source": [
    "df1 = pd.DataFrame({'A': ['A0', 'A1', 'A2', 'A3'],\n",
    "                        'B': ['B0', 'B1', 'B2', 'B3'],\n",
    "                        'C': ['C0', 'C1', 'C2', 'C3'],\n",
    "                        'D': ['D0', 'D1', 'D2', 'D3']},\n",
    "                        index=[0, 1, 2, 3])\n",
    "df1"
   ]
  },
  {
   "cell_type": "code",
   "execution_count": 10,
   "metadata": {},
   "outputs": [
    {
     "output_type": "execute_result",
     "data": {
      "text/plain": "    A   B   C   D\n4  A4  B4  C4  D4\n5  A5  B5  C5  D5\n6  A6  B6  C6  D6\n7  A7  B7  C7  D7",
      "text/html": "<div>\n<style scoped>\n    .dataframe tbody tr th:only-of-type {\n        vertical-align: middle;\n    }\n\n    .dataframe tbody tr th {\n        vertical-align: top;\n    }\n\n    .dataframe thead th {\n        text-align: right;\n    }\n</style>\n<table border=\"1\" class=\"dataframe\">\n  <thead>\n    <tr style=\"text-align: right;\">\n      <th></th>\n      <th>A</th>\n      <th>B</th>\n      <th>C</th>\n      <th>D</th>\n    </tr>\n  </thead>\n  <tbody>\n    <tr>\n      <td>4</td>\n      <td>A4</td>\n      <td>B4</td>\n      <td>C4</td>\n      <td>D4</td>\n    </tr>\n    <tr>\n      <td>5</td>\n      <td>A5</td>\n      <td>B5</td>\n      <td>C5</td>\n      <td>D5</td>\n    </tr>\n    <tr>\n      <td>6</td>\n      <td>A6</td>\n      <td>B6</td>\n      <td>C6</td>\n      <td>D6</td>\n    </tr>\n    <tr>\n      <td>7</td>\n      <td>A7</td>\n      <td>B7</td>\n      <td>C7</td>\n      <td>D7</td>\n    </tr>\n  </tbody>\n</table>\n</div>"
     },
     "metadata": {},
     "execution_count": 10
    }
   ],
   "source": [
    "df2 = pd.DataFrame({'A': ['A4', 'A5', 'A6', 'A7'],\n",
    "                        'B': ['B4', 'B5', 'B6', 'B7'],\n",
    "                        'C': ['C4', 'C5', 'C6', 'C7'],\n",
    "                        'D': ['D4', 'D5', 'D6', 'D7']},\n",
    "                         index=[4, 5, 6, 7]) \n",
    "df2"
   ]
  },
  {
   "cell_type": "code",
   "execution_count": 11,
   "metadata": {},
   "outputs": [
    {
     "output_type": "execute_result",
     "data": {
      "text/plain": "      A    B    C    D\n8    A8   B8   C8   D8\n9    A9   B9   C9   D9\n10  A10  B10  C10  D10\n11  A11  B11  C11  D11",
      "text/html": "<div>\n<style scoped>\n    .dataframe tbody tr th:only-of-type {\n        vertical-align: middle;\n    }\n\n    .dataframe tbody tr th {\n        vertical-align: top;\n    }\n\n    .dataframe thead th {\n        text-align: right;\n    }\n</style>\n<table border=\"1\" class=\"dataframe\">\n  <thead>\n    <tr style=\"text-align: right;\">\n      <th></th>\n      <th>A</th>\n      <th>B</th>\n      <th>C</th>\n      <th>D</th>\n    </tr>\n  </thead>\n  <tbody>\n    <tr>\n      <td>8</td>\n      <td>A8</td>\n      <td>B8</td>\n      <td>C8</td>\n      <td>D8</td>\n    </tr>\n    <tr>\n      <td>9</td>\n      <td>A9</td>\n      <td>B9</td>\n      <td>C9</td>\n      <td>D9</td>\n    </tr>\n    <tr>\n      <td>10</td>\n      <td>A10</td>\n      <td>B10</td>\n      <td>C10</td>\n      <td>D10</td>\n    </tr>\n    <tr>\n      <td>11</td>\n      <td>A11</td>\n      <td>B11</td>\n      <td>C11</td>\n      <td>D11</td>\n    </tr>\n  </tbody>\n</table>\n</div>"
     },
     "metadata": {},
     "execution_count": 11
    }
   ],
   "source": [
    "df3 = pd.DataFrame({'A': ['A8', 'A9', 'A10', 'A11'],\n",
    "                        'B': ['B8', 'B9', 'B10', 'B11'],\n",
    "                        'C': ['C8', 'C9', 'C10', 'C11'],\n",
    "                        'D': ['D8', 'D9', 'D10', 'D11']},\n",
    "                        index=[8, 9, 10, 11])\n",
    "df3"
   ]
  },
  {
   "cell_type": "code",
   "execution_count": 15,
   "metadata": {},
   "outputs": [
    {
     "output_type": "execute_result",
     "data": {
      "text/plain": "      A    B    C    D\n0    A0   B0   C0   D0\n1    A1   B1   C1   D1\n2    A2   B2   C2   D2\n3    A3   B3   C3   D3\n4    A4   B4   C4   D4\n5    A5   B5   C5   D5\n6    A6   B6   C6   D6\n7    A7   B7   C7   D7\n8    A8   B8   C8   D8\n9    A9   B9   C9   D9\n10  A10  B10  C10  D10\n11  A11  B11  C11  D11",
      "text/html": "<div>\n<style scoped>\n    .dataframe tbody tr th:only-of-type {\n        vertical-align: middle;\n    }\n\n    .dataframe tbody tr th {\n        vertical-align: top;\n    }\n\n    .dataframe thead th {\n        text-align: right;\n    }\n</style>\n<table border=\"1\" class=\"dataframe\">\n  <thead>\n    <tr style=\"text-align: right;\">\n      <th></th>\n      <th>A</th>\n      <th>B</th>\n      <th>C</th>\n      <th>D</th>\n    </tr>\n  </thead>\n  <tbody>\n    <tr>\n      <td>0</td>\n      <td>A0</td>\n      <td>B0</td>\n      <td>C0</td>\n      <td>D0</td>\n    </tr>\n    <tr>\n      <td>1</td>\n      <td>A1</td>\n      <td>B1</td>\n      <td>C1</td>\n      <td>D1</td>\n    </tr>\n    <tr>\n      <td>2</td>\n      <td>A2</td>\n      <td>B2</td>\n      <td>C2</td>\n      <td>D2</td>\n    </tr>\n    <tr>\n      <td>3</td>\n      <td>A3</td>\n      <td>B3</td>\n      <td>C3</td>\n      <td>D3</td>\n    </tr>\n    <tr>\n      <td>4</td>\n      <td>A4</td>\n      <td>B4</td>\n      <td>C4</td>\n      <td>D4</td>\n    </tr>\n    <tr>\n      <td>5</td>\n      <td>A5</td>\n      <td>B5</td>\n      <td>C5</td>\n      <td>D5</td>\n    </tr>\n    <tr>\n      <td>6</td>\n      <td>A6</td>\n      <td>B6</td>\n      <td>C6</td>\n      <td>D6</td>\n    </tr>\n    <tr>\n      <td>7</td>\n      <td>A7</td>\n      <td>B7</td>\n      <td>C7</td>\n      <td>D7</td>\n    </tr>\n    <tr>\n      <td>8</td>\n      <td>A8</td>\n      <td>B8</td>\n      <td>C8</td>\n      <td>D8</td>\n    </tr>\n    <tr>\n      <td>9</td>\n      <td>A9</td>\n      <td>B9</td>\n      <td>C9</td>\n      <td>D9</td>\n    </tr>\n    <tr>\n      <td>10</td>\n      <td>A10</td>\n      <td>B10</td>\n      <td>C10</td>\n      <td>D10</td>\n    </tr>\n    <tr>\n      <td>11</td>\n      <td>A11</td>\n      <td>B11</td>\n      <td>C11</td>\n      <td>D11</td>\n    </tr>\n  </tbody>\n</table>\n</div>"
     },
     "metadata": {},
     "execution_count": 15
    }
   ],
   "source": [
    "pd.concat([df1,df2,df3])    "
   ]
  },
  {
   "cell_type": "code",
   "execution_count": 16,
   "metadata": {},
   "outputs": [
    {
     "output_type": "execute_result",
     "data": {
      "text/plain": "      A    B    C    D    A    B    C    D    A    B    C    D\n0    A0   B0   C0   D0  NaN  NaN  NaN  NaN  NaN  NaN  NaN  NaN\n1    A1   B1   C1   D1  NaN  NaN  NaN  NaN  NaN  NaN  NaN  NaN\n2    A2   B2   C2   D2  NaN  NaN  NaN  NaN  NaN  NaN  NaN  NaN\n3    A3   B3   C3   D3  NaN  NaN  NaN  NaN  NaN  NaN  NaN  NaN\n4   NaN  NaN  NaN  NaN   A4   B4   C4   D4  NaN  NaN  NaN  NaN\n5   NaN  NaN  NaN  NaN   A5   B5   C5   D5  NaN  NaN  NaN  NaN\n6   NaN  NaN  NaN  NaN   A6   B6   C6   D6  NaN  NaN  NaN  NaN\n7   NaN  NaN  NaN  NaN   A7   B7   C7   D7  NaN  NaN  NaN  NaN\n8   NaN  NaN  NaN  NaN  NaN  NaN  NaN  NaN   A8   B8   C8   D8\n9   NaN  NaN  NaN  NaN  NaN  NaN  NaN  NaN   A9   B9   C9   D9\n10  NaN  NaN  NaN  NaN  NaN  NaN  NaN  NaN  A10  B10  C10  D10\n11  NaN  NaN  NaN  NaN  NaN  NaN  NaN  NaN  A11  B11  C11  D11",
      "text/html": "<div>\n<style scoped>\n    .dataframe tbody tr th:only-of-type {\n        vertical-align: middle;\n    }\n\n    .dataframe tbody tr th {\n        vertical-align: top;\n    }\n\n    .dataframe thead th {\n        text-align: right;\n    }\n</style>\n<table border=\"1\" class=\"dataframe\">\n  <thead>\n    <tr style=\"text-align: right;\">\n      <th></th>\n      <th>A</th>\n      <th>B</th>\n      <th>C</th>\n      <th>D</th>\n      <th>A</th>\n      <th>B</th>\n      <th>C</th>\n      <th>D</th>\n      <th>A</th>\n      <th>B</th>\n      <th>C</th>\n      <th>D</th>\n    </tr>\n  </thead>\n  <tbody>\n    <tr>\n      <td>0</td>\n      <td>A0</td>\n      <td>B0</td>\n      <td>C0</td>\n      <td>D0</td>\n      <td>NaN</td>\n      <td>NaN</td>\n      <td>NaN</td>\n      <td>NaN</td>\n      <td>NaN</td>\n      <td>NaN</td>\n      <td>NaN</td>\n      <td>NaN</td>\n    </tr>\n    <tr>\n      <td>1</td>\n      <td>A1</td>\n      <td>B1</td>\n      <td>C1</td>\n      <td>D1</td>\n      <td>NaN</td>\n      <td>NaN</td>\n      <td>NaN</td>\n      <td>NaN</td>\n      <td>NaN</td>\n      <td>NaN</td>\n      <td>NaN</td>\n      <td>NaN</td>\n    </tr>\n    <tr>\n      <td>2</td>\n      <td>A2</td>\n      <td>B2</td>\n      <td>C2</td>\n      <td>D2</td>\n      <td>NaN</td>\n      <td>NaN</td>\n      <td>NaN</td>\n      <td>NaN</td>\n      <td>NaN</td>\n      <td>NaN</td>\n      <td>NaN</td>\n      <td>NaN</td>\n    </tr>\n    <tr>\n      <td>3</td>\n      <td>A3</td>\n      <td>B3</td>\n      <td>C3</td>\n      <td>D3</td>\n      <td>NaN</td>\n      <td>NaN</td>\n      <td>NaN</td>\n      <td>NaN</td>\n      <td>NaN</td>\n      <td>NaN</td>\n      <td>NaN</td>\n      <td>NaN</td>\n    </tr>\n    <tr>\n      <td>4</td>\n      <td>NaN</td>\n      <td>NaN</td>\n      <td>NaN</td>\n      <td>NaN</td>\n      <td>A4</td>\n      <td>B4</td>\n      <td>C4</td>\n      <td>D4</td>\n      <td>NaN</td>\n      <td>NaN</td>\n      <td>NaN</td>\n      <td>NaN</td>\n    </tr>\n    <tr>\n      <td>5</td>\n      <td>NaN</td>\n      <td>NaN</td>\n      <td>NaN</td>\n      <td>NaN</td>\n      <td>A5</td>\n      <td>B5</td>\n      <td>C5</td>\n      <td>D5</td>\n      <td>NaN</td>\n      <td>NaN</td>\n      <td>NaN</td>\n      <td>NaN</td>\n    </tr>\n    <tr>\n      <td>6</td>\n      <td>NaN</td>\n      <td>NaN</td>\n      <td>NaN</td>\n      <td>NaN</td>\n      <td>A6</td>\n      <td>B6</td>\n      <td>C6</td>\n      <td>D6</td>\n      <td>NaN</td>\n      <td>NaN</td>\n      <td>NaN</td>\n      <td>NaN</td>\n    </tr>\n    <tr>\n      <td>7</td>\n      <td>NaN</td>\n      <td>NaN</td>\n      <td>NaN</td>\n      <td>NaN</td>\n      <td>A7</td>\n      <td>B7</td>\n      <td>C7</td>\n      <td>D7</td>\n      <td>NaN</td>\n      <td>NaN</td>\n      <td>NaN</td>\n      <td>NaN</td>\n    </tr>\n    <tr>\n      <td>8</td>\n      <td>NaN</td>\n      <td>NaN</td>\n      <td>NaN</td>\n      <td>NaN</td>\n      <td>NaN</td>\n      <td>NaN</td>\n      <td>NaN</td>\n      <td>NaN</td>\n      <td>A8</td>\n      <td>B8</td>\n      <td>C8</td>\n      <td>D8</td>\n    </tr>\n    <tr>\n      <td>9</td>\n      <td>NaN</td>\n      <td>NaN</td>\n      <td>NaN</td>\n      <td>NaN</td>\n      <td>NaN</td>\n      <td>NaN</td>\n      <td>NaN</td>\n      <td>NaN</td>\n      <td>A9</td>\n      <td>B9</td>\n      <td>C9</td>\n      <td>D9</td>\n    </tr>\n    <tr>\n      <td>10</td>\n      <td>NaN</td>\n      <td>NaN</td>\n      <td>NaN</td>\n      <td>NaN</td>\n      <td>NaN</td>\n      <td>NaN</td>\n      <td>NaN</td>\n      <td>NaN</td>\n      <td>A10</td>\n      <td>B10</td>\n      <td>C10</td>\n      <td>D10</td>\n    </tr>\n    <tr>\n      <td>11</td>\n      <td>NaN</td>\n      <td>NaN</td>\n      <td>NaN</td>\n      <td>NaN</td>\n      <td>NaN</td>\n      <td>NaN</td>\n      <td>NaN</td>\n      <td>NaN</td>\n      <td>A11</td>\n      <td>B11</td>\n      <td>C11</td>\n      <td>D11</td>\n    </tr>\n  </tbody>\n</table>\n</div>"
     },
     "metadata": {},
     "execution_count": 16
    }
   ],
   "source": [
    "pd.concat([df1,df2,df3],axis=1)\n",
    ""
   ]
  },
  {
   "cell_type": "code",
   "execution_count": null,
   "metadata": {},
   "outputs": [],
   "source": []
  },
  {
   "cell_type": "code",
   "execution_count": null,
   "metadata": {},
   "outputs": [],
   "source": []
  },
  {
   "cell_type": "code",
   "execution_count": null,
   "metadata": {},
   "outputs": [],
   "source": []
  },
  {
   "cell_type": "markdown",
   "metadata": {},
   "source": [
    "# Pandas Operations"
   ]
  },
  {
   "cell_type": "markdown",
   "metadata": {},
   "source": [
    "#### df[].unique()\n",
    "#### df[].nunique()\n",
    "#### df[''].value_counts()\n",
    "\n"
   ]
  },
  {
   "cell_type": "code",
   "execution_count": null,
   "metadata": {},
   "outputs": [],
   "source": []
  }
 ]
}