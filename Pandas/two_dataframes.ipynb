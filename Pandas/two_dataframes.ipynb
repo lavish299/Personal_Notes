{
 "nbformat": 4,
 "nbformat_minor": 2,
 "metadata": {
  "language_info": {
   "name": "python",
   "codemirror_mode": {
    "name": "ipython",
    "version": 3
   },
   "version": "3.7.4-final"
  },
  "orig_nbformat": 2,
  "file_extension": ".py",
  "mimetype": "text/x-python",
  "name": "python",
  "npconvert_exporter": "python",
  "pygments_lexer": "ipython3",
  "version": 3,
  "kernelspec": {
   "name": "python37464bitbaseconda844548050a1f4274a8735e4d43f1c96e",
   "display_name": "Python 3.7.4 64-bit ('base': conda)"
  }
 },
 "cells": [
  {
   "cell_type": "markdown",
   "metadata": {},
   "source": [
    "# Dataframes"
   ]
  },
  {
   "cell_type": "code",
   "execution_count": 2,
   "metadata": {},
   "outputs": [],
   "source": [
    "import numpy as np\n",
    "import pandas as pd"
   ]
  },
  {
   "cell_type": "code",
   "execution_count": 3,
   "metadata": {},
   "outputs": [],
   "source": [
    "from numpy.random import rand"
   ]
  },
  {
   "cell_type": "code",
   "execution_count": 4,
   "metadata": {},
   "outputs": [],
   "source": [
    "np.random.seed(101)"
   ]
  },
  {
   "cell_type": "code",
   "execution_count": 16,
   "metadata": {},
   "outputs": [],
   "source": [
    "df=pd.DataFrame(rand(5,4),index='A,B,C,D,E'.split(','),columns=\"a b c d\".split(\" \"))"
   ]
  },
  {
   "cell_type": "code",
   "execution_count": 17,
   "metadata": {},
   "outputs": [
    {
     "output_type": "execute_result",
     "data": {
      "text/plain": "          a         b         c         d\nA  0.625773  0.100850  0.710853  0.881330\nB  0.695290  0.266173  0.909964  0.579618\nC  0.359687  0.852634  0.246179  0.780444\nD  0.045510  0.885041  0.276421  0.580924\nE  0.910662  0.992591  0.062224  0.928481",
      "text/html": "<div>\n<style scoped>\n    .dataframe tbody tr th:only-of-type {\n        vertical-align: middle;\n    }\n\n    .dataframe tbody tr th {\n        vertical-align: top;\n    }\n\n    .dataframe thead th {\n        text-align: right;\n    }\n</style>\n<table border=\"1\" class=\"dataframe\">\n  <thead>\n    <tr style=\"text-align: right;\">\n      <th></th>\n      <th>a</th>\n      <th>b</th>\n      <th>c</th>\n      <th>d</th>\n    </tr>\n  </thead>\n  <tbody>\n    <tr>\n      <td>A</td>\n      <td>0.625773</td>\n      <td>0.100850</td>\n      <td>0.710853</td>\n      <td>0.881330</td>\n    </tr>\n    <tr>\n      <td>B</td>\n      <td>0.695290</td>\n      <td>0.266173</td>\n      <td>0.909964</td>\n      <td>0.579618</td>\n    </tr>\n    <tr>\n      <td>C</td>\n      <td>0.359687</td>\n      <td>0.852634</td>\n      <td>0.246179</td>\n      <td>0.780444</td>\n    </tr>\n    <tr>\n      <td>D</td>\n      <td>0.045510</td>\n      <td>0.885041</td>\n      <td>0.276421</td>\n      <td>0.580924</td>\n    </tr>\n    <tr>\n      <td>E</td>\n      <td>0.910662</td>\n      <td>0.992591</td>\n      <td>0.062224</td>\n      <td>0.928481</td>\n    </tr>\n  </tbody>\n</table>\n</div>"
     },
     "metadata": {},
     "execution_count": 17
    }
   ],
   "source": [
    "df"
   ]
  },
  {
   "cell_type": "markdown",
   "metadata": {},
   "source": [
    "## Selection and Indexing"
   ]
  },
  {
   "cell_type": "code",
   "execution_count": 18,
   "metadata": {},
   "outputs": [
    {
     "output_type": "execute_result",
     "data": {
      "text/plain": "A    0.625773\nB    0.695290\nC    0.359687\nD    0.045510\nE    0.910662\nName: a, dtype: float64"
     },
     "metadata": {},
     "execution_count": 18
    }
   ],
   "source": [
    "df['a']"
   ]
  },
  {
   "cell_type": "code",
   "execution_count": 27,
   "metadata": {},
   "outputs": [
    {
     "output_type": "stream",
     "name": "stdout",
     "text": "a    0.625773\nb    0.100850\nc    0.710853\nd    0.881330\nName: A, dtype: float64\na    0.625773\nb    0.100850\nc    0.710853\nd    0.881330\nName: A, dtype: float64\n"
    }
   ],
   "source": [
    "print(df.loc['A'])\n",
    "# or    \n",
    "print(df.iloc[0])\n"
   ]
  },
  {
   "cell_type": "code",
   "execution_count": 28,
   "metadata": {},
   "outputs": [],
   "source": [
    "df['new']=df['a']+df['b']"
   ]
  },
  {
   "cell_type": "code",
   "execution_count": 29,
   "metadata": {},
   "outputs": [
    {
     "output_type": "execute_result",
     "data": {
      "text/plain": "          a         b         c         d       new\nA  0.625773  0.100850  0.710853  0.881330  0.726623\nB  0.695290  0.266173  0.909964  0.579618  0.961463\nC  0.359687  0.852634  0.246179  0.780444  1.212321\nD  0.045510  0.885041  0.276421  0.580924  0.930551\nE  0.910662  0.992591  0.062224  0.928481  1.903253",
      "text/html": "<div>\n<style scoped>\n    .dataframe tbody tr th:only-of-type {\n        vertical-align: middle;\n    }\n\n    .dataframe tbody tr th {\n        vertical-align: top;\n    }\n\n    .dataframe thead th {\n        text-align: right;\n    }\n</style>\n<table border=\"1\" class=\"dataframe\">\n  <thead>\n    <tr style=\"text-align: right;\">\n      <th></th>\n      <th>a</th>\n      <th>b</th>\n      <th>c</th>\n      <th>d</th>\n      <th>new</th>\n    </tr>\n  </thead>\n  <tbody>\n    <tr>\n      <td>A</td>\n      <td>0.625773</td>\n      <td>0.100850</td>\n      <td>0.710853</td>\n      <td>0.881330</td>\n      <td>0.726623</td>\n    </tr>\n    <tr>\n      <td>B</td>\n      <td>0.695290</td>\n      <td>0.266173</td>\n      <td>0.909964</td>\n      <td>0.579618</td>\n      <td>0.961463</td>\n    </tr>\n    <tr>\n      <td>C</td>\n      <td>0.359687</td>\n      <td>0.852634</td>\n      <td>0.246179</td>\n      <td>0.780444</td>\n      <td>1.212321</td>\n    </tr>\n    <tr>\n      <td>D</td>\n      <td>0.045510</td>\n      <td>0.885041</td>\n      <td>0.276421</td>\n      <td>0.580924</td>\n      <td>0.930551</td>\n    </tr>\n    <tr>\n      <td>E</td>\n      <td>0.910662</td>\n      <td>0.992591</td>\n      <td>0.062224</td>\n      <td>0.928481</td>\n      <td>1.903253</td>\n    </tr>\n  </tbody>\n</table>\n</div>"
     },
     "metadata": {},
     "execution_count": 29
    }
   ],
   "source": [
    "df"
   ]
  },
  {
   "cell_type": "code",
   "execution_count": 38,
   "metadata": {},
   "outputs": [],
   "source": [
    "df.drop('new',axis=1,inplace=True)"
   ]
  },
  {
   "cell_type": "code",
   "execution_count": 39,
   "metadata": {},
   "outputs": [
    {
     "output_type": "execute_result",
     "data": {
      "text/plain": "          a         b         c         d\nA  0.625773  0.100850  0.710853  0.881330\nB  0.695290  0.266173  0.909964  0.579618\nC  0.359687  0.852634  0.246179  0.780444\nD  0.045510  0.885041  0.276421  0.580924\nE  0.910662  0.992591  0.062224  0.928481",
      "text/html": "<div>\n<style scoped>\n    .dataframe tbody tr th:only-of-type {\n        vertical-align: middle;\n    }\n\n    .dataframe tbody tr th {\n        vertical-align: top;\n    }\n\n    .dataframe thead th {\n        text-align: right;\n    }\n</style>\n<table border=\"1\" class=\"dataframe\">\n  <thead>\n    <tr style=\"text-align: right;\">\n      <th></th>\n      <th>a</th>\n      <th>b</th>\n      <th>c</th>\n      <th>d</th>\n    </tr>\n  </thead>\n  <tbody>\n    <tr>\n      <td>A</td>\n      <td>0.625773</td>\n      <td>0.100850</td>\n      <td>0.710853</td>\n      <td>0.881330</td>\n    </tr>\n    <tr>\n      <td>B</td>\n      <td>0.695290</td>\n      <td>0.266173</td>\n      <td>0.909964</td>\n      <td>0.579618</td>\n    </tr>\n    <tr>\n      <td>C</td>\n      <td>0.359687</td>\n      <td>0.852634</td>\n      <td>0.246179</td>\n      <td>0.780444</td>\n    </tr>\n    <tr>\n      <td>D</td>\n      <td>0.045510</td>\n      <td>0.885041</td>\n      <td>0.276421</td>\n      <td>0.580924</td>\n    </tr>\n    <tr>\n      <td>E</td>\n      <td>0.910662</td>\n      <td>0.992591</td>\n      <td>0.062224</td>\n      <td>0.928481</td>\n    </tr>\n  </tbody>\n</table>\n</div>"
     },
     "metadata": {},
     "execution_count": 39
    }
   ],
   "source": [
    "df"
   ]
  },
  {
   "cell_type": "markdown",
   "metadata": {},
   "source": [
    "# Multi Index and Index Hierarchy   "
   ]
  },
  {
   "cell_type": "code",
   "execution_count": 42,
   "metadata": {},
   "outputs": [
    {
     "output_type": "stream",
     "name": "stdout",
     "text": "[('G1', 1), ('G1', 2), ('G1', 3), ('G2', 1), ('G2', 2), ('G2', 3)]\nMultiIndex([('G1', 1),\n            ('G1', 2),\n            ('G1', 3),\n            ('G2', 1),\n            ('G2', 2),\n            ('G2', 3)],\n           )\n"
    }
   ],
   "source": [
    "outside = ['G1','G1','G1','G2','G2','G2']\n",
    "inside = [1,2,3,1,2,3]\n",
    "hier_index = list(zip(outside,inside))\n",
    "print(hier_index)\n",
    "hier_index = pd.MultiIndex.from_tuples(hier_index)\n",
    "print(hier_index)"
   ]
  },
  {
   "cell_type": "code",
   "execution_count": 45,
   "metadata": {},
   "outputs": [],
   "source": [
    "df=pd.DataFrame(rand(6,5),index=hier_index)"
   ]
  },
  {
   "cell_type": "code",
   "execution_count": 56,
   "metadata": {},
   "outputs": [
    {
     "output_type": "execute_result",
     "data": {
      "text/plain": "                  0         1         2         3         4\nGroup Num                                                  \nG1    1    0.603498  0.454420  0.313479  0.380982  0.642812\n      2    0.806533  0.130528  0.730565  0.005438  0.650661\n      3    0.453049  0.200645  0.631129  0.017791  0.838551\nG2    1    0.525546  0.370938  0.425750  0.265095  0.446408\n      2    0.982653  0.752054  0.520926  0.462383  0.067457\n      3    0.622840  0.719619  0.450736  0.684777  0.732571",
      "text/html": "<div>\n<style scoped>\n    .dataframe tbody tr th:only-of-type {\n        vertical-align: middle;\n    }\n\n    .dataframe tbody tr th {\n        vertical-align: top;\n    }\n\n    .dataframe thead th {\n        text-align: right;\n    }\n</style>\n<table border=\"1\" class=\"dataframe\">\n  <thead>\n    <tr style=\"text-align: right;\">\n      <th></th>\n      <th></th>\n      <th>0</th>\n      <th>1</th>\n      <th>2</th>\n      <th>3</th>\n      <th>4</th>\n    </tr>\n    <tr>\n      <th>Group</th>\n      <th>Num</th>\n      <th></th>\n      <th></th>\n      <th></th>\n      <th></th>\n      <th></th>\n    </tr>\n  </thead>\n  <tbody>\n    <tr>\n      <td rowspan=\"3\" valign=\"top\">G1</td>\n      <td>1</td>\n      <td>0.603498</td>\n      <td>0.454420</td>\n      <td>0.313479</td>\n      <td>0.380982</td>\n      <td>0.642812</td>\n    </tr>\n    <tr>\n      <td>2</td>\n      <td>0.806533</td>\n      <td>0.130528</td>\n      <td>0.730565</td>\n      <td>0.005438</td>\n      <td>0.650661</td>\n    </tr>\n    <tr>\n      <td>3</td>\n      <td>0.453049</td>\n      <td>0.200645</td>\n      <td>0.631129</td>\n      <td>0.017791</td>\n      <td>0.838551</td>\n    </tr>\n    <tr>\n      <td rowspan=\"3\" valign=\"top\">G2</td>\n      <td>1</td>\n      <td>0.525546</td>\n      <td>0.370938</td>\n      <td>0.425750</td>\n      <td>0.265095</td>\n      <td>0.446408</td>\n    </tr>\n    <tr>\n      <td>2</td>\n      <td>0.982653</td>\n      <td>0.752054</td>\n      <td>0.520926</td>\n      <td>0.462383</td>\n      <td>0.067457</td>\n    </tr>\n    <tr>\n      <td>3</td>\n      <td>0.622840</td>\n      <td>0.719619</td>\n      <td>0.450736</td>\n      <td>0.684777</td>\n      <td>0.732571</td>\n    </tr>\n  </tbody>\n</table>\n</div>"
     },
     "metadata": {},
     "execution_count": 56
    }
   ],
   "source": [
    "df"
   ]
  },
  {
   "cell_type": "code",
   "execution_count": 52,
   "metadata": {},
   "outputs": [
    {
     "output_type": "execute_result",
     "data": {
      "text/plain": "          0         1         2         3         4\n1  0.603498  0.454420  0.313479  0.380982  0.642812\n2  0.806533  0.130528  0.730565  0.005438  0.650661\n3  0.453049  0.200645  0.631129  0.017791  0.838551",
      "text/html": "<div>\n<style scoped>\n    .dataframe tbody tr th:only-of-type {\n        vertical-align: middle;\n    }\n\n    .dataframe tbody tr th {\n        vertical-align: top;\n    }\n\n    .dataframe thead th {\n        text-align: right;\n    }\n</style>\n<table border=\"1\" class=\"dataframe\">\n  <thead>\n    <tr style=\"text-align: right;\">\n      <th></th>\n      <th>0</th>\n      <th>1</th>\n      <th>2</th>\n      <th>3</th>\n      <th>4</th>\n    </tr>\n  </thead>\n  <tbody>\n    <tr>\n      <td>1</td>\n      <td>0.603498</td>\n      <td>0.454420</td>\n      <td>0.313479</td>\n      <td>0.380982</td>\n      <td>0.642812</td>\n    </tr>\n    <tr>\n      <td>2</td>\n      <td>0.806533</td>\n      <td>0.130528</td>\n      <td>0.730565</td>\n      <td>0.005438</td>\n      <td>0.650661</td>\n    </tr>\n    <tr>\n      <td>3</td>\n      <td>0.453049</td>\n      <td>0.200645</td>\n      <td>0.631129</td>\n      <td>0.017791</td>\n      <td>0.838551</td>\n    </tr>\n  </tbody>\n</table>\n</div>"
     },
     "metadata": {},
     "execution_count": 52
    }
   ],
   "source": [
    "df.loc['G1']"
   ]
  },
  {
   "cell_type": "code",
   "execution_count": 55,
   "metadata": {},
   "outputs": [],
   "source": [
    "df.index.names=['Group','Num']"
   ]
  },
  {
   "cell_type": "code",
   "execution_count": 58,
   "metadata": {},
   "outputs": [
    {
     "output_type": "execute_result",
     "data": {
      "text/plain": "            0         1         2         3         4\nNum                                                  \n1    0.603498  0.454420  0.313479  0.380982  0.642812\n2    0.806533  0.130528  0.730565  0.005438  0.650661\n3    0.453049  0.200645  0.631129  0.017791  0.838551",
      "text/html": "<div>\n<style scoped>\n    .dataframe tbody tr th:only-of-type {\n        vertical-align: middle;\n    }\n\n    .dataframe tbody tr th {\n        vertical-align: top;\n    }\n\n    .dataframe thead th {\n        text-align: right;\n    }\n</style>\n<table border=\"1\" class=\"dataframe\">\n  <thead>\n    <tr style=\"text-align: right;\">\n      <th></th>\n      <th>0</th>\n      <th>1</th>\n      <th>2</th>\n      <th>3</th>\n      <th>4</th>\n    </tr>\n    <tr>\n      <th>Num</th>\n      <th></th>\n      <th></th>\n      <th></th>\n      <th></th>\n      <th></th>\n    </tr>\n  </thead>\n  <tbody>\n    <tr>\n      <td>1</td>\n      <td>0.603498</td>\n      <td>0.454420</td>\n      <td>0.313479</td>\n      <td>0.380982</td>\n      <td>0.642812</td>\n    </tr>\n    <tr>\n      <td>2</td>\n      <td>0.806533</td>\n      <td>0.130528</td>\n      <td>0.730565</td>\n      <td>0.005438</td>\n      <td>0.650661</td>\n    </tr>\n    <tr>\n      <td>3</td>\n      <td>0.453049</td>\n      <td>0.200645</td>\n      <td>0.631129</td>\n      <td>0.017791</td>\n      <td>0.838551</td>\n    </tr>\n  </tbody>\n</table>\n</div>"
     },
     "metadata": {},
     "execution_count": 58
    }
   ],
   "source": [
    "df.xs(\"G1\")"
   ]
  },
  {
   "cell_type": "code",
   "execution_count": 59,
   "metadata": {},
   "outputs": [
    {
     "output_type": "execute_result",
     "data": {
      "text/plain": "0    0.603498\n1    0.454420\n2    0.313479\n3    0.380982\n4    0.642812\nName: (G1, 1), dtype: float64"
     },
     "metadata": {},
     "execution_count": 59
    }
   ],
   "source": [
    "df.xs([\"G1\",1])"
   ]
  },
  {
   "cell_type": "markdown",
   "metadata": {},
   "source": [
    "# Handling Missing Values"
   ]
  },
  {
   "cell_type": "code",
   "execution_count": 65,
   "metadata": {},
   "outputs": [],
   "source": [
    "df=pd.DataFrame({'A':[1,2,3],\n",
    "'B':[2,np.nan,3],\n",
    "'C':[1,np.nan,np.nan]\n",
    "}\n",
    ")"
   ]
  },
  {
   "cell_type": "code",
   "execution_count": 66,
   "metadata": {},
   "outputs": [
    {
     "output_type": "execute_result",
     "data": {
      "text/plain": "   A    B    C\n0  1  2.0  1.0\n1  2  NaN  NaN\n2  3  3.0  NaN",
      "text/html": "<div>\n<style scoped>\n    .dataframe tbody tr th:only-of-type {\n        vertical-align: middle;\n    }\n\n    .dataframe tbody tr th {\n        vertical-align: top;\n    }\n\n    .dataframe thead th {\n        text-align: right;\n    }\n</style>\n<table border=\"1\" class=\"dataframe\">\n  <thead>\n    <tr style=\"text-align: right;\">\n      <th></th>\n      <th>A</th>\n      <th>B</th>\n      <th>C</th>\n    </tr>\n  </thead>\n  <tbody>\n    <tr>\n      <td>0</td>\n      <td>1</td>\n      <td>2.0</td>\n      <td>1.0</td>\n    </tr>\n    <tr>\n      <td>1</td>\n      <td>2</td>\n      <td>NaN</td>\n      <td>NaN</td>\n    </tr>\n    <tr>\n      <td>2</td>\n      <td>3</td>\n      <td>3.0</td>\n      <td>NaN</td>\n    </tr>\n  </tbody>\n</table>\n</div>"
     },
     "metadata": {},
     "execution_count": 66
    }
   ],
   "source": [
    "df"
   ]
  },
  {
   "cell_type": "code",
   "execution_count": 68,
   "metadata": {},
   "outputs": [
    {
     "output_type": "execute_result",
     "data": {
      "text/plain": "   A    B    C\n0  1  2.0  1.0",
      "text/html": "<div>\n<style scoped>\n    .dataframe tbody tr th:only-of-type {\n        vertical-align: middle;\n    }\n\n    .dataframe tbody tr th {\n        vertical-align: top;\n    }\n\n    .dataframe thead th {\n        text-align: right;\n    }\n</style>\n<table border=\"1\" class=\"dataframe\">\n  <thead>\n    <tr style=\"text-align: right;\">\n      <th></th>\n      <th>A</th>\n      <th>B</th>\n      <th>C</th>\n    </tr>\n  </thead>\n  <tbody>\n    <tr>\n      <td>0</td>\n      <td>1</td>\n      <td>2.0</td>\n      <td>1.0</td>\n    </tr>\n  </tbody>\n</table>\n</div>"
     },
     "metadata": {},
     "execution_count": 68
    }
   ],
   "source": [
    "df.dropna()"
   ]
  },
  {
   "cell_type": "code",
   "execution_count": 69,
   "metadata": {},
   "outputs": [
    {
     "output_type": "execute_result",
     "data": {
      "text/plain": "   A\n0  1\n1  2\n2  3",
      "text/html": "<div>\n<style scoped>\n    .dataframe tbody tr th:only-of-type {\n        vertical-align: middle;\n    }\n\n    .dataframe tbody tr th {\n        vertical-align: top;\n    }\n\n    .dataframe thead th {\n        text-align: right;\n    }\n</style>\n<table border=\"1\" class=\"dataframe\">\n  <thead>\n    <tr style=\"text-align: right;\">\n      <th></th>\n      <th>A</th>\n    </tr>\n  </thead>\n  <tbody>\n    <tr>\n      <td>0</td>\n      <td>1</td>\n    </tr>\n    <tr>\n      <td>1</td>\n      <td>2</td>\n    </tr>\n    <tr>\n      <td>2</td>\n      <td>3</td>\n    </tr>\n  </tbody>\n</table>\n</div>"
     },
     "metadata": {},
     "execution_count": 69
    }
   ],
   "source": [
    "df.dropna(axis=1)\n",
    ""
   ]
  },
  {
   "cell_type": "code",
   "execution_count": 70,
   "metadata": {},
   "outputs": [
    {
     "output_type": "execute_result",
     "data": {
      "text/plain": "   A    B    C\n0  1  2.0  1.0\n2  3  3.0  NaN",
      "text/html": "<div>\n<style scoped>\n    .dataframe tbody tr th:only-of-type {\n        vertical-align: middle;\n    }\n\n    .dataframe tbody tr th {\n        vertical-align: top;\n    }\n\n    .dataframe thead th {\n        text-align: right;\n    }\n</style>\n<table border=\"1\" class=\"dataframe\">\n  <thead>\n    <tr style=\"text-align: right;\">\n      <th></th>\n      <th>A</th>\n      <th>B</th>\n      <th>C</th>\n    </tr>\n  </thead>\n  <tbody>\n    <tr>\n      <td>0</td>\n      <td>1</td>\n      <td>2.0</td>\n      <td>1.0</td>\n    </tr>\n    <tr>\n      <td>2</td>\n      <td>3</td>\n      <td>3.0</td>\n      <td>NaN</td>\n    </tr>\n  </tbody>\n</table>\n</div>"
     },
     "metadata": {},
     "execution_count": 70
    }
   ],
   "source": [
    "df.dropna(thresh=2)\n",
    ""
   ]
  },
  {
   "cell_type": "code",
   "execution_count": 71,
   "metadata": {},
   "outputs": [
    {
     "output_type": "execute_result",
     "data": {
      "text/plain": "   A       B       C\n0  1       2       1\n1  2  Thresh  Thresh\n2  3       3  Thresh",
      "text/html": "<div>\n<style scoped>\n    .dataframe tbody tr th:only-of-type {\n        vertical-align: middle;\n    }\n\n    .dataframe tbody tr th {\n        vertical-align: top;\n    }\n\n    .dataframe thead th {\n        text-align: right;\n    }\n</style>\n<table border=\"1\" class=\"dataframe\">\n  <thead>\n    <tr style=\"text-align: right;\">\n      <th></th>\n      <th>A</th>\n      <th>B</th>\n      <th>C</th>\n    </tr>\n  </thead>\n  <tbody>\n    <tr>\n      <td>0</td>\n      <td>1</td>\n      <td>2</td>\n      <td>1</td>\n    </tr>\n    <tr>\n      <td>1</td>\n      <td>2</td>\n      <td>Thresh</td>\n      <td>Thresh</td>\n    </tr>\n    <tr>\n      <td>2</td>\n      <td>3</td>\n      <td>3</td>\n      <td>Thresh</td>\n    </tr>\n  </tbody>\n</table>\n</div>"
     },
     "metadata": {},
     "execution_count": 71
    }
   ],
   "source": [
    "df.fillna(value=\"Thresh\")"
   ]
  },
  {
   "cell_type": "markdown",
   "metadata": {},
   "source": [
    "# Groupby"
   ]
  },
  {
   "cell_type": "code",
   "execution_count": null,
   "metadata": {},
   "outputs": [],
   "source": []
  }
 ]
}