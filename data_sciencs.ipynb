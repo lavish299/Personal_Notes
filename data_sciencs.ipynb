{
 "nbformat": 4,
 "nbformat_minor": 2,
 "metadata": {
  "language_info": {
   "name": "python",
   "codemirror_mode": {
    "name": "ipython",
    "version": 3
   }
  },
  "orig_nbformat": 2,
  "file_extension": ".py",
  "mimetype": "text/x-python",
  "name": "python",
  "npconvert_exporter": "python",
  "pygments_lexer": "ipython3",
  "version": 3
 },
 "cells": [
  {
   "cell_type": "markdown",
   "metadata": {},
   "source": [
    "# What is Data Science\n",
    "\n",
    "## 1. Data Exploration and Prepration\n",
    "## 2. Data Representation and Transformation\n",
    "## 3. Computing with Data\n",
    "## 4. Data Modeling\n",
    "## 5. Data Visualization and Presentation\n",
    "## 6. Science about Data Science"
   ]
  },
  {
   "cell_type": "code",
   "execution_count": null,
   "metadata": {},
   "outputs": [],
   "source": []
  }
 ]
}