{
 "nbformat": 4,
 "nbformat_minor": 2,
 "metadata": {
  "language_info": {
   "name": "python",
   "codemirror_mode": {
    "name": "ipython",
    "version": 3
   },
   "version": "3.7.4-final"
  },
  "orig_nbformat": 2,
  "file_extension": ".py",
  "mimetype": "text/x-python",
  "name": "python",
  "npconvert_exporter": "python",
  "pygments_lexer": "ipython3",
  "version": 3,
  "kernelspec": {
   "name": "python37464bitbaseconda844548050a1f4274a8735e4d43f1c96e",
   "display_name": "Python 3.7.4 64-bit ('base': conda)"
  }
 },
 "cells": [
  {
   "cell_type": "code",
   "execution_count": 2,
   "metadata": {},
   "outputs": [],
   "source": [
    "import numpy as np"
   ]
  },
  {
   "cell_type": "code",
   "execution_count": 3,
   "metadata": {},
   "outputs": [
    {
     "output_type": "execute_result",
     "data": {
      "text/plain": "array([1, 2, 3, 4, 5])"
     },
     "metadata": {},
     "execution_count": 3
    }
   ],
   "source": [
    "list=[1,2,3,4,5]\n",
    "# list=[1,2,3,4,5]\n",
    "np.array(list)"
   ]
  },
  {
   "cell_type": "markdown",
   "metadata": {},
   "source": [
    "# Numpy Built-in Methods\n",
    "### 1. arange - just like range in python\n",
    "### 2. zeros and ones\n",
    "### 3. linespaces - return evenly spaced numbers over a specified interval\n",
    "### 4. eye - creates an identity matrix\n",
    "### 5. Random (rand,randint,randn) Rand used for uniform distribution and randn is used for 'Standard Normal' distribution\n",
    "### 6. .max(),.min(),.argmax(),argmin()\n"
   ]
  },
  {
   "cell_type": "code",
   "execution_count": 14,
   "metadata": {},
   "outputs": [
    {
     "output_type": "stream",
     "name": "stdout",
     "text": "[0. 0.]\n[[0. 0.]\n [0. 0.]]\n[[[0. 0. 0.]\n  [0. 0. 0.]]\n\n [[0. 0. 0.]\n  [0. 0. 0.]]]\n"
    }
   ],
   "source": [
    "print(np.arange(1,10,2))\n",
    "print(np.zeros(2))\n",
    "print(np.zeros((2,2)))\n",
    "print(np.zeros((2,2,3)))\n",
    "\n"
   ]
  },
  {
   "cell_type": "code",
   "execution_count": 17,
   "metadata": {},
   "outputs": [
    {
     "output_type": "stream",
     "name": "stdout",
     "text": "[1. 1.]\n[[1. 1.]\n [1. 1.]]\n[[[1. 1. 1.]\n  [1. 1. 1.]]\n\n [[1. 1. 1.]\n  [1. 1. 1.]]]\n"
    }
   ],
   "source": [
    "print(np.ones(2))\n",
    "print(np.ones((2,2)))\n",
    "print(np.ones((2,2,3)))\n",
    "\n",
    ""
   ]
  },
  {
   "cell_type": "code",
   "execution_count": 23,
   "metadata": {},
   "outputs": [
    {
     "output_type": "stream",
     "name": "stdout",
     "text": "2\n(5, 10)\nfloat64\n50\n8\n"
    }
   ],
   "source": [
    "ndarray=np.linspace(1,2,50).reshape(5,10)\n",
    "print(ndarray.ndim)\n",
    "print(ndarray.shape)\n",
    "print(ndarray.dtype)\n",
    "print(ndarray.size)\n",
    "print(ndarray.itemsize)\n",
    ""
   ]
  },
  {
   "cell_type": "code",
   "execution_count": 19,
   "metadata": {},
   "outputs": [
    {
     "output_type": "execute_result",
     "data": {
      "text/plain": "array([[1., 0., 0., 0.],\n       [0., 1., 0., 0.],\n       [0., 0., 1., 0.],\n       [0., 0., 0., 1.]])"
     },
     "metadata": {},
     "execution_count": 19
    }
   ],
   "source": [
    "np.eye(4)"
   ]
  },
  {
   "cell_type": "code",
   "execution_count": 24,
   "metadata": {},
   "outputs": [
    {
     "output_type": "stream",
     "name": "stdout",
     "text": "54\n"
    }
   ],
   "source": [
    "print(np.random.randint(1,100))\n",
    "np.random.rand(2)\n",
    "np.random.rand(5,5)\n",
    "np.random.randn(2)\n",
    "np.random.randint(1,100,10)\n",
    "\n",
    "\n",
    "\n",
    "\n"
   ]
  },
  {
   "cell_type": "markdown",
   "metadata": {},
   "source": [
    "# Numpy Indexing and Slicing\n",
    "#### 1. Indexing\n",
    "#### 2. Slicing\n",
    "#### 3. Broadcasting\n",
    "#### 4. Setting a copy of an array\n",
    "\n"
   ]
  },
  {
   "cell_type": "code",
   "execution_count": 27,
   "metadata": {},
   "outputs": [],
   "source": [
    "arr=np.linspace(1,10,10)"
   ]
  },
  {
   "cell_type": "code",
   "execution_count": 29,
   "metadata": {},
   "outputs": [
    {
     "output_type": "execute_result",
     "data": {
      "text/plain": "array([False, False, False, False,  True,  True,  True,  True,  True,\n        True])"
     },
     "metadata": {},
     "execution_count": 29
    }
   ],
   "source": [
    "arr>4"
   ]
  },
  {
   "cell_type": "code",
   "execution_count": 30,
   "metadata": {},
   "outputs": [
    {
     "output_type": "execute_result",
     "data": {
      "text/plain": "array([ 5.,  6.,  7.,  8.,  9., 10.])"
     },
     "metadata": {},
     "execution_count": 30
    }
   ],
   "source": [
    "arr[arr>4]"
   ]
  },
  {
   "cell_type": "markdown",
   "metadata": {},
   "source": [
    "# Numpy Operations"
   ]
  },
  {
   "cell_type": "code",
   "execution_count": 32,
   "metadata": {},
   "outputs": [
    {
     "output_type": "execute_result",
     "data": {
      "text/plain": "array([ 2.,  4.,  6.,  8., 10., 12., 14., 16., 18., 20.])"
     },
     "metadata": {},
     "execution_count": 32
    }
   ],
   "source": [
    "arr+arr"
   ]
  },
  {
   "cell_type": "code",
   "execution_count": 33,
   "metadata": {},
   "outputs": [
    {
     "output_type": "execute_result",
     "data": {
      "text/plain": "array([  1.,   4.,   9.,  16.,  25.,  36.,  49.,  64.,  81., 100.])"
     },
     "metadata": {},
     "execution_count": 33
    }
   ],
   "source": [
    "arr*arr"
   ]
  },
  {
   "cell_type": "code",
   "execution_count": 34,
   "metadata": {},
   "outputs": [
    {
     "output_type": "execute_result",
     "data": {
      "text/plain": "array([1., 1., 1., 1., 1., 1., 1., 1., 1., 1.])"
     },
     "metadata": {},
     "execution_count": 34
    }
   ],
   "source": [
    "arr/arr"
   ]
  },
  {
   "cell_type": "code",
   "execution_count": 35,
   "metadata": {},
   "outputs": [
    {
     "output_type": "execute_result",
     "data": {
      "text/plain": "array([1.        , 1.41421356, 1.73205081, 2.        , 2.23606798,\n       2.44948974, 2.64575131, 2.82842712, 3.        , 3.16227766])"
     },
     "metadata": {},
     "execution_count": 35
    }
   ],
   "source": [
    "np.sqrt(arr)"
   ]
  },
  {
   "cell_type": "code",
   "execution_count": 36,
   "metadata": {},
   "outputs": [
    {
     "output_type": "execute_result",
     "data": {
      "text/plain": "array([2.71828183e+00, 7.38905610e+00, 2.00855369e+01, 5.45981500e+01,\n       1.48413159e+02, 4.03428793e+02, 1.09663316e+03, 2.98095799e+03,\n       8.10308393e+03, 2.20264658e+04])"
     },
     "metadata": {},
     "execution_count": 36
    }
   ],
   "source": [
    "np.exp(arr)"
   ]
  },
  {
   "cell_type": "code",
   "execution_count": 37,
   "metadata": {},
   "outputs": [
    {
     "output_type": "execute_result",
     "data": {
      "text/plain": "array([ 0.84147098,  0.90929743,  0.14112001, -0.7568025 , -0.95892427,\n       -0.2794155 ,  0.6569866 ,  0.98935825,  0.41211849, -0.54402111])"
     },
     "metadata": {},
     "execution_count": 37
    }
   ],
   "source": [
    "np.sin(arr)"
   ]
  },
  {
   "cell_type": "code",
   "execution_count": 38,
   "metadata": {},
   "outputs": [
    {
     "output_type": "execute_result",
     "data": {
      "text/plain": "array([0.        , 0.69314718, 1.09861229, 1.38629436, 1.60943791,\n       1.79175947, 1.94591015, 2.07944154, 2.19722458, 2.30258509])"
     },
     "metadata": {},
     "execution_count": 38
    }
   ],
   "source": [
    "np.log(arr)"
   ]
  },
  {
   "cell_type": "code",
   "execution_count": null,
   "metadata": {},
   "outputs": [],
   "source": []
  }
 ]
}