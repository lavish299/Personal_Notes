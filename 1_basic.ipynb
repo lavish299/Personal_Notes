{
 "nbformat": 4,
 "nbformat_minor": 2,
 "metadata": {
  "language_info": {
   "name": "python",
   "codemirror_mode": {
    "name": "ipython",
    "version": 3
   },
   "version": "3.8.1-final"
  },
  "orig_nbformat": 2,
  "file_extension": ".py",
  "mimetype": "text/x-python",
  "name": "python",
  "npconvert_exporter": "python",
  "pygments_lexer": "ipython3",
  "version": 3,
  "kernelspec": {
   "name": "python37464bitbaseconda844548050a1f4274a8735e4d43f1c96e",
   "display_name": "Python 3.7.4 64-bit ('base': conda)"
  }
 },
 "cells": [
  {
   "cell_type": "markdown",
   "metadata": {},
   "source": [
    "# This is a set of Important Concepts from Python Language as a whole which I usually tend to forget\n",
    "1. *args ad **kwargs\n",
    "2. Classes in python\n",
    "    a) Inheritance\n",
    "    b) Difference between isinstance and type\n",
    "3. Collections\n"
   ],
   "execution_count": null,
   "outputs": []
  },
  {
   "cell_type": "markdown",
   "metadata": {},
   "source": [
    "# 1. *args and **kwargs\n",
    "### *args is basically used to pass a list in the arguments\n",
    "### **kwargs is used to pass a dictionary in the arguments"
   ],
   "execution_count": null,
   "outputs": []
  },
  {
   "cell_type": "code",
   "execution_count": 1,
   "metadata": {},
   "outputs": [
    {
     "output_type": "stream",
     "name": "stdout",
     "text": "printScores\n\nStudent Name: Jonathan\n100\n95\n88\n92\n99\n\nprintPetNames\n\nOwner Name: Jonathan\ndog: Brock\nfish: ['Larry', 'Curly', 'Moe']\nturtle: Shelldon\n"
    }
   ],
   "source": [
    "def printScores(student, *scores):\n",
    "   print(f\"Student Name: {student}\")\n",
    "   for score in scores:\n",
    "      print(score)\n",
    "      \n",
    "def printPetNames(owner, **pets):\n",
    "   print(f\"Owner Name: {owner}\")\n",
    "   for pet,name in pets.items():\n",
    "      print(f\"{pet}: {name}\")\n",
    "\n",
    "print(\"printScores\\n\")\n",
    "printScores(\"Jonathan\",100, 95, 88, 92, 99)\n",
    "print(\"\\nprintPetNames\\n\")\n",
    "printPetNames(\"Jonathan\", dog=\"Brock\", fish=[\"Larry\", \"Curly\", \"Moe\"], turtle=\"Shelldon\")\n",
    "\n",
    ""
   ]
  },
  {
   "cell_type": "markdown",
   "metadata": {},
   "source": [
    "# 2. Classes in Python"
   ],
   "execution_count": null,
   "outputs": []
  },
  {
   "cell_type": "code",
   "execution_count": 2,
   "metadata": {},
   "outputs": [],
   "source": [
    "class Employee():\n",
    "    \"\"\"\"\"\n",
    "    Documentation of the Class\n",
    "    \"\"\"\"\"\n",
    "    def __init__(self,name,age):\n",
    "        self.age=age\n",
    "        self.name=name\n",
    "    \n",
    "    def do_it(self):\n",
    "        print(self)\n",
    "\n",
    "    def __repr__(self):\n",
    "        return('Employee Name: {0} \\nEmployee Age : {1}'.format(self.name,self.age))"
   ]
  },
  {
   "cell_type": "code",
   "execution_count": 3,
   "metadata": {},
   "outputs": [
    {
     "output_type": "stream",
     "name": "stdout",
     "text": "Employee Name: lavish garg \nEmployee Age : 20\nEmployee Name: lavish garg \nEmployee Age : 20\n"
    }
   ],
   "source": [
    "emp1=Employee(\"lavish garg\",20)\n",
    "print(emp1)\n",
    "\n",
    "emp1.do_it()\n",
    ""
   ]
  },
  {
   "cell_type": "markdown",
   "metadata": {},
   "source": [
    "### 2.a Inheritance in Classes"
   ],
   "execution_count": null,
   "outputs": []
  },
  {
   "cell_type": "code",
   "execution_count": 4,
   "metadata": {},
   "outputs": [],
   "source": [
    "class Rectangle(object):\n",
    "    def __init__(self, height, length):\n",
    "        self.height = height\n",
    "        self.length = length\n",
    "    \n",
    "    def area(self):\n",
    "        return self.height * self.length\n",
    "    \n",
    "    def perimeter(self):\n",
    "        return 2 * (self.height + self.length)\n",
    "\n",
    "class Square(Rectangle):\n",
    "    def __init__(self, length):\n",
    "        super(Square, self).__init__(length, length)"
   ]
  },
  {
   "cell_type": "code",
   "execution_count": 5,
   "metadata": {},
   "outputs": [
    {
     "output_type": "execute_result",
     "data": {
      "text/plain": "(25, 20)"
     },
     "metadata": {},
     "execution_count": 5
    }
   ],
   "source": [
    "s = Square(5)\n",
    "s.area(), s.perimeter()"
   ]
  },
  {
   "cell_type": "markdown",
   "metadata": {},
   "source": [
    "### 2.b isinstace vs type"
   ],
   "execution_count": null,
   "outputs": []
  },
  {
   "cell_type": "code",
   "execution_count": 6,
   "metadata": {},
   "outputs": [
    {
     "output_type": "stream",
     "name": "stdout",
     "text": "True False\n"
    },
    {
     "output_type": "execute_result",
     "data": {
      "text/plain": "True"
     },
     "metadata": {},
     "execution_count": 6
    }
   ],
   "source": [
    "print(type(s) == Square, type(s) == Rectangle)\n",
    "isinstance(s,Rectangle)"
   ]
  },
  {
   "cell_type": "markdown",
   "metadata": {},
   "source": [
    "# 3.Collections"
   ],
   "execution_count": null,
   "outputs": []
  },
  {
   "cell_type": "markdown",
   "metadata": {},
   "source": [
    "### 3 (a) namedtuple"
   ]
  },
  {
   "cell_type": "code",
   "execution_count": 7,
   "metadata": {},
   "outputs": [
    {
     "output_type": "stream",
     "name": "stdout",
     "text": "1 Print value of x dimension of vec\nException :  can't set attribute\nData Type of vec: <class '__main__.Vector'>\nData Type of Vector3:  <class 'type'>\n"
    }
   ],
   "source": [
    "from collections import namedtuple\n",
    "Vector3=namedtuple('Vector',['x','y','z'])\n",
    "\n",
    "vec=Vector3(1,2,3)\n",
    "\n",
    "print(vec.x,\"Print value of x dimension of vec\")\n",
    "\n",
    "try:\n",
    "    vec.x=5\n",
    "except Exception as e:\n",
    "    print(\"Exception : \",e) #namedtuples are immutable\n",
    "print(\"Data Type of vec:\",type(vec))\n",
    "print(\"Data Type of Vector3: \",type(Vector3))"
   ]
  },
  {
   "cell_type": "markdown",
   "metadata": {},
   "source": [
    "### 3 (b) deque \n",
    "#### deque makes adding elements to left of the list easier and faster"
   ]
  },
  {
   "cell_type": "code",
   "execution_count": 8,
   "metadata": {},
   "outputs": [
    {
     "output_type": "stream",
     "name": "stdout",
     "text": "deque([2, 3, 4, 5])\n<class 'collections.deque'>\ndeque([2, 3, 4, 5, 6])\ndeque([1, 2, 3, 4, 5, 6])\n"
    }
   ],
   "source": [
    "from collections import deque\n",
    "d=deque([2,3,4,5])\n",
    "print(d)\n",
    "print(type(d))\n",
    "d.append(6)\n",
    "print(d)\n",
    "d.appendleft(1)\n",
    "print(d)"
   ]
  },
  {
   "cell_type": "markdown",
   "metadata": {},
   "source": [
    "### 3 (c) Counter"
   ]
  },
  {
   "cell_type": "code",
   "execution_count": 9,
   "metadata": {},
   "outputs": [
    {
     "output_type": "stream",
     "name": "stdout",
     "text": "Counter({1: 7, 4: 5, 5: 5, 3: 2, 2: 1, 6: 1, 56: 1})\n"
    }
   ],
   "source": [
    "from collections import Counter\n",
    "elements=[1,1,1,1,1,1,2,1,3,4,5,6,5,4,3,4,5,4,4,5,5,56]\n",
    "c=Counter(elements)\n",
    "print(c)"
   ]
  },
  {
   "cell_type": "markdown",
   "metadata": {},
   "source": [
    "### 3 (d) orderedict\n",
    "#### Preserve the order of keys entered in the list"
   ]
  },
  {
   "cell_type": "code",
   "execution_count": 1,
   "metadata": {},
   "outputs": [],
   "source": [
    "from collections import OrderedDict\n",
    "my_dict={'Name':'Elon Musk','Design':'CEO','Age':40,'Nationality':'American','Companies Owned':['TESLA','SPACEX','THE BORING COMPANY','SOLAR CITY']}\n",
    "my_odr_dict=OrderedDict(my_dict)"
   ]
  },
  {
   "cell_type": "code",
   "execution_count": 2,
   "metadata": {},
   "outputs": [
    {
     "output_type": "stream",
     "name": "stdout",
     "text": "{'Name': 'Elon Musk', 'Design': 'CEO', 'Age': 40, 'Nationality': 'American', 'Companies Owned': ['TESLA', 'SPACEX', 'THE BORING COMPANY', 'SOLAR CITY']}\nOrderedDict([('Name', 'Elon Musk'), ('Design', 'CEO'), ('Age', 40), ('Nationality', 'American'), ('Companies Owned', ['TESLA', 'SPACEX', 'THE BORING COMPANY', 'SOLAR CITY'])])\n"
    }
   ],
   "source": [
    "print(my_dict)\n",
    "print(my_odr_dict)"
   ]
  },
  {
   "cell_type": "markdown",
   "metadata": {},
   "source": [
    "### 3 (e) defaultdict\n",
    "Missing key handling made easier"
   ]
  },
  {
   "cell_type": "code",
   "execution_count": 12,
   "metadata": {},
   "outputs": [],
   "source": [
    "from collections import defaultdict\n",
    "def count(ele):\n",
    "    count_dict={}\n",
    "    for i in ele:\n",
    "        if i in count_dict.keys():\n",
    "            count_dict[i] += 1\n",
    "        else:\n",
    "            count_dict[i]=1\n",
    "    return count_dict\n",
    "\n",
    "\n",
    "def def_count(ele):\n",
    "    count_dict=defaultdict(int)\n",
    "    for i in ele:\n",
    "        if i in count_dict.keys():\n",
    "            count_dict[i] += 1\n",
    "        else:\n",
    "            count_dict[i]=1\n",
    "    return count_dict"
   ]
  },
  {
   "cell_type": "code",
   "execution_count": 13,
   "metadata": {},
   "outputs": [
    {
     "output_type": "stream",
     "name": "stdout",
     "text": "{1: 7, 2: 1, 3: 2, 4: 5, 5: 5, 6: 1, 56: 1}\ndefaultdict(<class 'int'>, {1: 7, 2: 1, 3: 2, 4: 5, 5: 5, 6: 1, 56: 1})\n"
    }
   ],
   "source": [
    "print(count(elements))\n",
    "print(def_count(elements))\n",
    ""
   ]
  },
  {
   "cell_type": "code",
   "execution_count": null,
   "metadata": {},
   "outputs": [],
   "source": []
  }
 ]
}